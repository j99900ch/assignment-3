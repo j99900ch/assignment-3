{
 "cells": [
  {
   "cell_type": "markdown",
   "id": "d103489e",
   "metadata": {},
   "source": [
    "# Assignment - 3 \n",
    "Q=(1,2,3,4,5,7,8,9,10) "
   ]
  },
  {
   "cell_type": "code",
   "execution_count": 1,
   "id": "8f5a5b0f",
   "metadata": {},
   "outputs": [
    {
     "name": "stdout",
     "output_type": "stream",
     "text": [
      "Requirement already satisfied: selenium in c:\\users\\md\\anaconda3\\lib\\site-packages (4.7.2)\n",
      "Requirement already satisfied: trio-websocket~=0.9 in c:\\users\\md\\anaconda3\\lib\\site-packages (from selenium) (0.9.2)\n",
      "Requirement already satisfied: urllib3[socks]~=1.26 in c:\\users\\md\\anaconda3\\lib\\site-packages (from selenium) (1.26.11)\n",
      "Requirement already satisfied: certifi>=2021.10.8 in c:\\users\\md\\anaconda3\\lib\\site-packages (from selenium) (2022.9.14)\n",
      "Requirement already satisfied: trio~=0.17 in c:\\users\\md\\anaconda3\\lib\\site-packages (from selenium) (0.22.0)\n",
      "Requirement already satisfied: outcome in c:\\users\\md\\anaconda3\\lib\\site-packages (from trio~=0.17->selenium) (1.2.0)\n",
      "Requirement already satisfied: cffi>=1.14 in c:\\users\\md\\anaconda3\\lib\\site-packages (from trio~=0.17->selenium) (1.15.1)\n",
      "Requirement already satisfied: sniffio in c:\\users\\md\\anaconda3\\lib\\site-packages (from trio~=0.17->selenium) (1.2.0)\n",
      "Requirement already satisfied: attrs>=19.2.0 in c:\\users\\md\\anaconda3\\lib\\site-packages (from trio~=0.17->selenium) (21.4.0)\n",
      "Requirement already satisfied: async-generator>=1.9 in c:\\users\\md\\anaconda3\\lib\\site-packages (from trio~=0.17->selenium) (1.10)\n",
      "Requirement already satisfied: exceptiongroup>=1.0.0rc9 in c:\\users\\md\\anaconda3\\lib\\site-packages (from trio~=0.17->selenium) (1.0.4)\n",
      "Requirement already satisfied: sortedcontainers in c:\\users\\md\\anaconda3\\lib\\site-packages (from trio~=0.17->selenium) (2.4.0)\n",
      "Requirement already satisfied: idna in c:\\users\\md\\anaconda3\\lib\\site-packages (from trio~=0.17->selenium) (3.3)\n",
      "Requirement already satisfied: wsproto>=0.14 in c:\\users\\md\\anaconda3\\lib\\site-packages (from trio-websocket~=0.9->selenium) (1.2.0)\n",
      "Requirement already satisfied: PySocks!=1.5.7,<2.0,>=1.5.6 in c:\\users\\md\\anaconda3\\lib\\site-packages (from urllib3[socks]~=1.26->selenium) (1.7.1)\n",
      "Requirement already satisfied: pycparser in c:\\users\\md\\anaconda3\\lib\\site-packages (from cffi>=1.14->trio~=0.17->selenium) (2.21)\n",
      "Requirement already satisfied: h11<1,>=0.9.0 in c:\\users\\md\\anaconda3\\lib\\site-packages (from wsproto>=0.14->trio-websocket~=0.9->selenium) (0.14.0)\n"
     ]
    }
   ],
   "source": [
    "#install pip libraries\n",
    "!pip install selenium"
   ]
  },
  {
   "cell_type": "code",
   "execution_count": 68,
   "id": "cc3387d2",
   "metadata": {},
   "outputs": [],
   "source": [
    "# import the libraries\n",
    "import pandas as pd\n",
    "import requests\n",
    "import selenium\n",
    "from selenium import webdriver\n",
    "import warnings\n",
    "warnings.filterwarnings('ignore')\n",
    "from selenium.webdriver.common.by import By\n",
    "import time\n",
    "from selenium.common.exceptions import NoSuchElementException"
   ]
  },
  {
   "cell_type": "code",
   "execution_count": 3,
   "id": "17a3a10a",
   "metadata": {},
   "outputs": [],
   "source": [
    "#let's gt connect to the driver\n",
    "driver=webdriver.Chrome(r\"C:\\Users\\md\\Downloads\\chromedriver_win32(1)\\Chromedriver.exe\")"
   ]
  },
  {
   "cell_type": "markdown",
   "id": "d2100905",
   "metadata": {},
   "source": [
    "# Q1. write a pytho program :\n",
    "    -taken as input from user = \"guitar\""
   ]
  },
  {
   "cell_type": "code",
   "execution_count": 4,
   "id": "81775134",
   "metadata": {},
   "outputs": [
    {
     "name": "stdout",
     "output_type": "stream",
     "text": [
      "enter your item:guitar\n"
     ]
    }
   ],
   "source": [
    "value=input(\"enter your item:\")"
   ]
  },
  {
   "cell_type": "markdown",
   "id": "85afd0ae",
   "metadata": {},
   "source": [
    "# Q2.  Scrap the first three pages details of guitar -www.amazon.com"
   ]
  },
  {
   "cell_type": "code",
   "execution_count": 9,
   "id": "f8ae4c91",
   "metadata": {},
   "outputs": [],
   "source": [
    "#let's get connect to the webdriver\n",
    "driver=webdriver.Chrome(r\"C:\\Users\\md\\Downloads\\chromedriver_win32(1)\\Chromedriver.exe\")\n",
    "driver.get(\"https://www.amazon.in\")"
   ]
  },
  {
   "cell_type": "code",
   "execution_count": 10,
   "id": "21414dcd",
   "metadata": {},
   "outputs": [
    {
     "name": "stdout",
     "output_type": "stream",
     "text": [
      "\n"
     ]
    }
   ],
   "source": [
    "# scrap Search element:\n",
    "try:\n",
    "    element=driver.find_element(By.CLASS_NAME,\"nav-search-field \")\n",
    "    print(element.text)\n",
    "except NoSuchElementException as e:\n",
    "    #print('Exception on Raised as\", e)\n",
    "    element=driver.find_element(By.CLASS_NAME,\"nav-fill\")\n",
    "    print(element.text)\n",
    "    driver.find_element(By.XPATH,'//[@class=\"nav-search-submit nav-sprite\"]').send_keys(\"guitar\")\n",
    "    time.sleep(2)"
   ]
  },
  {
   "cell_type": "code",
   "execution_count": 13,
   "id": "5773d0bc",
   "metadata": {},
   "outputs": [],
   "source": [
    "#scrap all product urls:\n",
    "product_urls=[]\n",
    "start=0\n",
    "end=3\n",
    "for page in range(start,end):\n",
    "    url=driver.find_elements(By.XPATH,'//a[@class=\"a-link-normal s-no-outline\"]')\n",
    "    for i in url[0:10]:\n",
    "        product_urls.append(i.get_attribute(\"href\"))\n",
    "    nxt_button=driver.find_element(By.XPATH,'//a[@class=\"s-pagination-item s-pagination-next s-pagination-button s-pagination-separator\"]')\n",
    "    nxt_button.click()\n",
    "    time.sleep(2)"
   ]
  },
  {
   "cell_type": "code",
   "execution_count": 14,
   "id": "f140e78f",
   "metadata": {},
   "outputs": [
    {
     "data": {
      "text/plain": [
       "30"
      ]
     },
     "execution_count": 14,
     "metadata": {},
     "output_type": "execute_result"
    }
   ],
   "source": [
    "#Checking len:\n",
    "len(product_urls)"
   ]
  },
  {
   "cell_type": "markdown",
   "id": "9447d252",
   "metadata": {},
   "source": [
    "# Scraping guitar's(brand,name,price,delivery,availability,returnex,product_url)"
   ]
  },
  {
   "cell_type": "code",
   "execution_count": 19,
   "id": "8481792b",
   "metadata": {},
   "outputs": [],
   "source": [
    "#Scraping brand:\n",
    "Brand = []\n",
    "for url in product_urls[:10]:\n",
    "    driver.get(url)\n",
    "    time.sleep(2)\n",
    "    \n",
    "    try:\n",
    "        brand=driver.find_elements(By.XPATH,'//*[@id=\"productOverview_feature_div\"]/html/body/div[2]/div[2]/div[5]/div[4]/div[4]/div[44]/div/table/tbody/tr[1]/td[2]/span')\n",
    "        Brand.append(brand)\n",
    "    except NoSuchElementException:\n",
    "        Brand.append('-')\n",
    "    except NoSuchElementException as e:\n",
    "        brand=driver.find_element(By.XPATH,'//*[@id=\"a-size-base\"]/html/body/div[2]/div[2]/div[5]/div[4]/div[4]/div[44]/div/table/tbody/tr[1]/td[2]/span')\n",
    "        Brand.append(brand)\n",
    "        time.sleep(2)"
   ]
  },
  {
   "cell_type": "code",
   "execution_count": 15,
   "id": "2a6f62fa",
   "metadata": {},
   "outputs": [],
   "source": [
    "#Scraping guitar name:\n",
    "Name = []\n",
    "for url in product_urls[:10]:\n",
    "    driver.get(url)\n",
    "    time.sleep(3)\n",
    "    \n",
    "    try:\n",
    "        name=driver.find_elements(By.XPATH,'//*[@id=\"celwidget\"]/html/body/div[2]/div[2]/div[5]/div[4]/div[4]/div[1]/div/h1/span')\n",
    "        Name.append(name)\n",
    "    except NoSuchElementException :\n",
    "        Name.append('-')\n",
    "    except NoSuchElementException as e:\n",
    "        name=driver.find_element(By.XPATH,'//*[@id=\"a-size-large product-title-word-break\"]/html/body/div[2]/div[2]/div[5]/div[4]/div[4]/div[1]/div/h1/span')\n",
    "        Name.append(name)\n",
    "        time.sleep(2)"
   ]
  },
  {
   "cell_type": "code",
   "execution_count": 16,
   "id": "f06fc5d0",
   "metadata": {},
   "outputs": [],
   "source": [
    "#Scraping guitar price:\n",
    "Price  = []\n",
    "for url in product_urls[:10]:\n",
    "    try:\n",
    "        price=driver.find_elements(By.XPATH,'//*[@class=\"a-price-whole\"]/html/body/div[2]/div[2]/div[5]/div[4]/div[4]/div[10]/div/div[1]/div[3]/div[1]/span[2]/span[2]/span[2]')\n",
    "        Price.append(price)\n",
    "    except NoSuchElementException :\n",
    "        Price.append('-')\n",
    "    except NoSuchElementException as e:\n",
    "        price=driver.find_elements(By.XPATH,'//*[@class=\"a-offscreen\"]/html/body/div[2]/div[2]/div[5]/div[4]/div[4]/div[10]/div/div[1]/div[3]/div[1]/span[2]/span[2]/span[2]')\n",
    "        Price.append(price)\n",
    "        time.sleep(2)    "
   ]
  },
  {
   "cell_type": "code",
   "execution_count": 17,
   "id": "d8e36628",
   "metadata": {},
   "outputs": [],
   "source": [
    "#Scraping Availability\n",
    "Availability = []\n",
    "for url in product_urls[:10]:\n",
    "    driver.get(url)\n",
    "    time.sleep(2)\n",
    "    \n",
    "    try:\n",
    "        availability=driver.find_elements(By.XPATH,'//*[@id=\"\"]/html/body/div[2]/div[2]/div[5]/div[4]/div[1]/div[3]/div/div/div[1]/div/div/div[1]/div/div[2]/div[19]/div/span[1]')\n",
    "        Availability.append(availability)\n",
    "    except NoSuchElementException:\n",
    "        Availability.append('-')\n",
    "    except NoSuchElementException as e:\n",
    "        availability=driver.find_elements(By.XPATH,'//*[@id=\"a-size-base\"]/html/body/div[2]/div[2]/div[5]/div[4]/div[1]/div[3]/div/div/div[1]/div/div/div[1]/div/div[2]/div[19]/div/span[1]')\n",
    "        Availability.append(availability)\n",
    "        time.sleep(2)"
   ]
  },
  {
   "cell_type": "code",
   "execution_count": 23,
   "id": "49578806",
   "metadata": {},
   "outputs": [],
   "source": [
    "#Scraping Delivery:\n",
    "Delivery = []\n",
    "for url in product_urls[:10]:\n",
    "    driver.get(url)\n",
    "    time.sleep(2)\n",
    "    \n",
    "    try:\n",
    "        delivery=driver.find_elements(By.XPATH,'//*[@id=\"a-text-bold\"]/html/body/div[2]/div[2]/div[5]/div[4]/div[1]/div[3]/div/div/div[1]/div/div/div[1]/div/div[2]/div[12]/div[1]/div/div/div[2]/span/span')\n",
    "        Delivery.append(delivery)\n",
    "    except NoSuchElementException:\n",
    "        Delivery.append('-')\n",
    "    except NoSuchElementException as e:\n",
    "        delivery=driver.find_elements(By.XPATH,'//*[@id=\"a-link-normal\"]/html/body/div[2]/div[2]/div[5]/div[4]/div[1]/div[3]/div/div/div[1]/div/div/div[1]/div/div[2]/div[12]/div[1]/div/div/div[2]/span/span')\n",
    "        Delivery.append(delivery)\n",
    "        time.sleep(2)"
   ]
  },
  {
   "cell_type": "code",
   "execution_count": 25,
   "id": "1a78023f",
   "metadata": {},
   "outputs": [],
   "source": [
    "#Scraping Returnex:\n",
    "Returnex= []\n",
    "for url in product_urls[:10]:\n",
    "    driver.get(url)\n",
    "    time.sleep(2)\n",
    "    \n",
    "    try:\n",
    "        returnex=driver.find_elements(By.XPATH,'//*[@id=\"celwidget\"]/html/body/div[2]/div[2]/div[5]/div[4]/div[4]/div[23]/div/div[1]/div[2]/div/div/div/div[3]/span/div[2]/a')\n",
    "        Returnex.append(returnex)\n",
    "    except NoSuchElementException:\n",
    "        returnex.append('-')\n",
    "    except NoSuchElementException as e:\n",
    "        returnex=driver.find_elements(By.XPATH,'//*[@id=\"a-size-large product-title-word-break\"]a-size-small a-link-normal a-text-normal\"]/html/body/div[2]/div[2]/div[5]/div[4]/div[4]/div[23]/div/div[1]/div[2]/div/div/div/div[3]/span/div[2]/a')\n",
    "        Returnex.append(returnex)\n",
    "        time.sleep(2)"
   ]
  },
  {
   "cell_type": "code",
   "execution_count": 29,
   "id": "91a8d9bd",
   "metadata": {},
   "outputs": [],
   "source": [
    "#Scraping link(ProductURL):\n",
    "Link=[]\n",
    "for url in product_urls[:10]:\n",
    "    driver.get(url)\n",
    "    time.sleep(2)\n",
    "    \n",
    "    try:\n",
    "        link=driver.find_elements(By.XPATH,'//*[@id=\"celwidget\"]/html/body/div[2]/div[2]/div[5]/div[4]/div[4]/div[3]/div/a')\n",
    "        Link.append(link)\n",
    "    except NoSuchElementException:\n",
    "        link.append('-')\n",
    "    except NoSuchElementException as e:\n",
    "        link=driver.find_elements(By.XPATH,'//*[@id=\"a-link-normal\"]/html/body/div[2]/div[2]/div[5]/div[4]/div[4]/div[3]/div/a')\n",
    "        Link.append(link)\n",
    "        time.sleep(2)\n"
   ]
  },
  {
   "cell_type": "code",
   "execution_count": 30,
   "id": "3bed2129",
   "metadata": {},
   "outputs": [
    {
     "name": "stdout",
     "output_type": "stream",
     "text": [
      "10 10 10 10 10 10 10\n"
     ]
    }
   ],
   "source": [
    "#checking the length\n",
    "print(len(Brand),len(Name),len(Price),len(Availability),len(Returnex),len(Delivery),len(Link))"
   ]
  },
  {
   "cell_type": "code",
   "execution_count": 31,
   "id": "033365de",
   "metadata": {},
   "outputs": [
    {
     "data": {
      "text/html": [
       "<div>\n",
       "<style scoped>\n",
       "    .dataframe tbody tr th:only-of-type {\n",
       "        vertical-align: middle;\n",
       "    }\n",
       "\n",
       "    .dataframe tbody tr th {\n",
       "        vertical-align: top;\n",
       "    }\n",
       "\n",
       "    .dataframe thead th {\n",
       "        text-align: right;\n",
       "    }\n",
       "</style>\n",
       "<table border=\"1\" class=\"dataframe\">\n",
       "  <thead>\n",
       "    <tr style=\"text-align: right;\">\n",
       "      <th></th>\n",
       "      <th>brand</th>\n",
       "      <th>name</th>\n",
       "      <th>price</th>\n",
       "      <th>availability</th>\n",
       "      <th>delivery</th>\n",
       "      <th>returnex</th>\n",
       "      <th>link</th>\n",
       "    </tr>\n",
       "  </thead>\n",
       "  <tbody>\n",
       "    <tr>\n",
       "      <th>0</th>\n",
       "      <td>[]</td>\n",
       "      <td>[]</td>\n",
       "      <td>[]</td>\n",
       "      <td>[]</td>\n",
       "      <td>[]</td>\n",
       "      <td>[]</td>\n",
       "      <td>[]</td>\n",
       "    </tr>\n",
       "    <tr>\n",
       "      <th>1</th>\n",
       "      <td>[]</td>\n",
       "      <td>[]</td>\n",
       "      <td>[]</td>\n",
       "      <td>[]</td>\n",
       "      <td>[]</td>\n",
       "      <td>[]</td>\n",
       "      <td>[]</td>\n",
       "    </tr>\n",
       "    <tr>\n",
       "      <th>2</th>\n",
       "      <td>[]</td>\n",
       "      <td>[]</td>\n",
       "      <td>[]</td>\n",
       "      <td>[]</td>\n",
       "      <td>[]</td>\n",
       "      <td>[]</td>\n",
       "      <td>[]</td>\n",
       "    </tr>\n",
       "    <tr>\n",
       "      <th>3</th>\n",
       "      <td>[]</td>\n",
       "      <td>[]</td>\n",
       "      <td>[]</td>\n",
       "      <td>[]</td>\n",
       "      <td>[]</td>\n",
       "      <td>[]</td>\n",
       "      <td>[]</td>\n",
       "    </tr>\n",
       "    <tr>\n",
       "      <th>4</th>\n",
       "      <td>[]</td>\n",
       "      <td>[]</td>\n",
       "      <td>[]</td>\n",
       "      <td>[]</td>\n",
       "      <td>[]</td>\n",
       "      <td>[]</td>\n",
       "      <td>[]</td>\n",
       "    </tr>\n",
       "    <tr>\n",
       "      <th>5</th>\n",
       "      <td>[]</td>\n",
       "      <td>[]</td>\n",
       "      <td>[]</td>\n",
       "      <td>[]</td>\n",
       "      <td>[]</td>\n",
       "      <td>[]</td>\n",
       "      <td>[]</td>\n",
       "    </tr>\n",
       "    <tr>\n",
       "      <th>6</th>\n",
       "      <td>[]</td>\n",
       "      <td>[]</td>\n",
       "      <td>[]</td>\n",
       "      <td>[]</td>\n",
       "      <td>[]</td>\n",
       "      <td>[]</td>\n",
       "      <td>[]</td>\n",
       "    </tr>\n",
       "    <tr>\n",
       "      <th>7</th>\n",
       "      <td>[]</td>\n",
       "      <td>[]</td>\n",
       "      <td>[]</td>\n",
       "      <td>[]</td>\n",
       "      <td>[]</td>\n",
       "      <td>[]</td>\n",
       "      <td>[]</td>\n",
       "    </tr>\n",
       "    <tr>\n",
       "      <th>8</th>\n",
       "      <td>[]</td>\n",
       "      <td>[]</td>\n",
       "      <td>[]</td>\n",
       "      <td>[]</td>\n",
       "      <td>[]</td>\n",
       "      <td>[]</td>\n",
       "      <td>[]</td>\n",
       "    </tr>\n",
       "    <tr>\n",
       "      <th>9</th>\n",
       "      <td>[]</td>\n",
       "      <td>[]</td>\n",
       "      <td>[]</td>\n",
       "      <td>[]</td>\n",
       "      <td>[]</td>\n",
       "      <td>[]</td>\n",
       "      <td>[]</td>\n",
       "    </tr>\n",
       "  </tbody>\n",
       "</table>\n",
       "</div>"
      ],
      "text/plain": [
       "  brand name price availability delivery returnex link\n",
       "0    []   []    []           []       []       []   []\n",
       "1    []   []    []           []       []       []   []\n",
       "2    []   []    []           []       []       []   []\n",
       "3    []   []    []           []       []       []   []\n",
       "4    []   []    []           []       []       []   []\n",
       "5    []   []    []           []       []       []   []\n",
       "6    []   []    []           []       []       []   []\n",
       "7    []   []    []           []       []       []   []\n",
       "8    []   []    []           []       []       []   []\n",
       "9    []   []    []           []       []       []   []"
      ]
     },
     "execution_count": 31,
     "metadata": {},
     "output_type": "execute_result"
    }
   ],
   "source": [
    "#Make a dataframe\n",
    "data = pd.DataFrame()\n",
    "data[\"brand\"] = Brand\n",
    "data['name'] = Name\n",
    "data['price']=Price\n",
    "data[\"availability\"] = Availability\n",
    "data[\"delivery\"] = Delivery\n",
    "data[\"returnex\"] = Returnex\n",
    "data[\"link\"] = Link\n",
    "data"
   ]
  },
  {
   "cell_type": "code",
   "execution_count": 32,
   "id": "39c2a816",
   "metadata": {},
   "outputs": [],
   "source": [
    "#save data to csv as a file\n",
    "data.to_csv('Guitar.csv', index=False )"
   ]
  },
  {
   "cell_type": "markdown",
   "id": "acadddf1",
   "metadata": {},
   "source": [
    "# Q3. Scrap 10 images of guitar from images.google.com"
   ]
  },
  {
   "cell_type": "code",
   "execution_count": 77,
   "id": "14e6c391",
   "metadata": {},
   "outputs": [],
   "source": [
    "#let's get connect to the webdriver\n",
    "driver=webdriver.Chrome(r\"C:\\Users\\md\\Downloads\\chromedriver_win32(1)\\Chromedriver.exe\")\n",
    "driver.get(\"https://www.images.google.com\")"
   ]
  },
  {
   "cell_type": "code",
   "execution_count": 78,
   "id": "4ffe6dae",
   "metadata": {},
   "outputs": [],
   "source": [
    "# get url from web page:\n",
    "url = \"https://www.google.com/search?q=guitar&tbm=isch&source=hp&biw=1034&bih=575&ei=El-gY7S6GZGQmAXmpY8Y&iflsig=AJiK0e8AAAAAY6BtItXiGMbpu1Ugap0nizFK_p0_2Vb3&ved=0ahUKEwi0i7uV3YX8AhURCKYKHebSAwMQ4dUDCAc&uact=5&oq=guitar&gs_lcp=CgNpbWcQAzIICAAQgAQQsQMyCAgAEIAEELEDMggIABCABBCxAzIICAAQgAQQsQMyCAgAEIAEELEDMggIABCABBCxAzIICAAQgAQQsQMyCAgAEIAEELEDMggIABCABBCxAzIICAAQgAQQsQM6BQgAEIAEOggIABCxAxCDAToLCAAQgAQQsQMQgwFQqFRYymJgwnFoAHAAeACAAYICiAHGCZIBBTAuMy4zmAEAoAEBqgELZ3dzLXdpei1pbWewAQA&sclient=img#imgrc=yzdzv6tWMn8goM\"\n",
    "driver.get(url)\n",
    "time.sleep(1)"
   ]
  },
  {
   "cell_type": "code",
   "execution_count": 79,
   "id": "31f5e6f1",
   "metadata": {},
   "outputs": [
    {
     "name": "stdout",
     "output_type": "stream",
     "text": [
      "\n"
     ]
    }
   ],
   "source": [
    "# find search element:\n",
    "try:\n",
    "    element=driver.find_element(By.CLASS_NAME,\"og3lId\")\n",
    "    print(element.text)\n",
    "except NoSuchElementException as e:\n",
    "    #print('Exception on Raised as\", e)\n",
    "    element=driver.find_element(By.CLASS_NAME,\"dGWkFc\")\n",
    "    print(element.text)\n",
    "    driver.find_element(By.XPATH,'//[@class=\"NGBa0b\"]').send_keys(\"guitar\")\n",
    "    time.sleep(2)"
   ]
  },
  {
   "cell_type": "code",
   "execution_count": 80,
   "id": "3d419fb9",
   "metadata": {},
   "outputs": [
    {
     "name": "stdout",
     "output_type": "stream",
     "text": [
      "[<selenium.webdriver.remote.webelement.WebElement (session=\"ebf1a0799b9b7635157d7ba8e8260dd9\", element=\"413fdae8-f69f-408f-8086-f8a575d370ca\")>, <selenium.webdriver.remote.webelement.WebElement (session=\"ebf1a0799b9b7635157d7ba8e8260dd9\", element=\"4bca7df3-f2ef-4556-86cc-4920864bab2f\")>, <selenium.webdriver.remote.webelement.WebElement (session=\"ebf1a0799b9b7635157d7ba8e8260dd9\", element=\"3f07e74f-0716-47dd-9341-d82b762439a3\")>, <selenium.webdriver.remote.webelement.WebElement (session=\"ebf1a0799b9b7635157d7ba8e8260dd9\", element=\"70e0b718-348d-425f-8ea8-e90ff9b43186\")>, <selenium.webdriver.remote.webelement.WebElement (session=\"ebf1a0799b9b7635157d7ba8e8260dd9\", element=\"b4b9284c-2493-43e8-82e5-30a1cfe5c114\")>, <selenium.webdriver.remote.webelement.WebElement (session=\"ebf1a0799b9b7635157d7ba8e8260dd9\", element=\"5e5d6a1a-f7a7-4b73-b4d7-647c96a42c4e\")>, <selenium.webdriver.remote.webelement.WebElement (session=\"ebf1a0799b9b7635157d7ba8e8260dd9\", element=\"12bf4186-f42e-4645-9909-e3bd85a9d63a\")>, <selenium.webdriver.remote.webelement.WebElement (session=\"ebf1a0799b9b7635157d7ba8e8260dd9\", element=\"9efec058-a956-4b3a-96b9-213a66c41651\")>, <selenium.webdriver.remote.webelement.WebElement (session=\"ebf1a0799b9b7635157d7ba8e8260dd9\", element=\"a064bdbf-7ebc-438f-bf59-8ae748ef3bb1\")>, <selenium.webdriver.remote.webelement.WebElement (session=\"ebf1a0799b9b7635157d7ba8e8260dd9\", element=\"a6d0fead-4659-43e0-930e-99053b9d27b8\")>, <selenium.webdriver.remote.webelement.WebElement (session=\"ebf1a0799b9b7635157d7ba8e8260dd9\", element=\"57e700f9-a2df-4cce-8ab8-16b8ce33ba4f\")>, <selenium.webdriver.remote.webelement.WebElement (session=\"ebf1a0799b9b7635157d7ba8e8260dd9\", element=\"352e0d81-7994-4e45-bfcd-72d7be8f0c3c\")>, <selenium.webdriver.remote.webelement.WebElement (session=\"ebf1a0799b9b7635157d7ba8e8260dd9\", element=\"d9336ecc-0122-4344-82af-824f31621fd2\")>, <selenium.webdriver.remote.webelement.WebElement (session=\"ebf1a0799b9b7635157d7ba8e8260dd9\", element=\"931beb46-ac64-444b-91ed-ad767956c973\")>, <selenium.webdriver.remote.webelement.WebElement (session=\"ebf1a0799b9b7635157d7ba8e8260dd9\", element=\"04a589ff-e180-41ee-9648-c81f8f51cede\")>, <selenium.webdriver.remote.webelement.WebElement (session=\"ebf1a0799b9b7635157d7ba8e8260dd9\", element=\"cca04810-4b66-48d1-921c-c1b34bfe6d33\")>, <selenium.webdriver.remote.webelement.WebElement (session=\"ebf1a0799b9b7635157d7ba8e8260dd9\", element=\"b390ea94-21fb-4267-a37b-371bc70efe59\")>, <selenium.webdriver.remote.webelement.WebElement (session=\"ebf1a0799b9b7635157d7ba8e8260dd9\", element=\"9f46584a-f7cb-41a7-9583-300b4579f0ff\")>, <selenium.webdriver.remote.webelement.WebElement (session=\"ebf1a0799b9b7635157d7ba8e8260dd9\", element=\"0d157319-a0d7-4c3d-a54e-7945b768fce4\")>, <selenium.webdriver.remote.webelement.WebElement (session=\"ebf1a0799b9b7635157d7ba8e8260dd9\", element=\"68ae630f-1006-412f-bfa8-ea59221d071c\")>, <selenium.webdriver.remote.webelement.WebElement (session=\"ebf1a0799b9b7635157d7ba8e8260dd9\", element=\"a23722ee-4344-4fef-94f6-34c871f9a314\")>, <selenium.webdriver.remote.webelement.WebElement (session=\"ebf1a0799b9b7635157d7ba8e8260dd9\", element=\"789d9608-0ec8-45a5-99cf-c890dba460da\")>, <selenium.webdriver.remote.webelement.WebElement (session=\"ebf1a0799b9b7635157d7ba8e8260dd9\", element=\"664232a3-1078-4e9d-abb0-443bed347e38\")>, <selenium.webdriver.remote.webelement.WebElement (session=\"ebf1a0799b9b7635157d7ba8e8260dd9\", element=\"0aaf5e2f-444e-412e-aadf-b2e1479b9114\")>, <selenium.webdriver.remote.webelement.WebElement (session=\"ebf1a0799b9b7635157d7ba8e8260dd9\", element=\"f18627bd-2d63-4ec4-8a36-d752291689c2\")>, <selenium.webdriver.remote.webelement.WebElement (session=\"ebf1a0799b9b7635157d7ba8e8260dd9\", element=\"b9233355-305e-461e-93c2-db1367023d6d\")>, <selenium.webdriver.remote.webelement.WebElement (session=\"ebf1a0799b9b7635157d7ba8e8260dd9\", element=\"284b5898-676e-4b9a-84fd-8e6567eb7269\")>, <selenium.webdriver.remote.webelement.WebElement (session=\"ebf1a0799b9b7635157d7ba8e8260dd9\", element=\"8777684c-cbff-4682-92e8-d54b8531d1b9\")>, <selenium.webdriver.remote.webelement.WebElement (session=\"ebf1a0799b9b7635157d7ba8e8260dd9\", element=\"1a12cc44-d6ae-4d2b-943b-62b72ecc64c3\")>, <selenium.webdriver.remote.webelement.WebElement (session=\"ebf1a0799b9b7635157d7ba8e8260dd9\", element=\"656443bf-caa1-43cf-afc3-172916080f4b\")>, <selenium.webdriver.remote.webelement.WebElement (session=\"ebf1a0799b9b7635157d7ba8e8260dd9\", element=\"7c40bca5-8fb3-440f-9dd0-0e6c74b08caa\")>, <selenium.webdriver.remote.webelement.WebElement (session=\"ebf1a0799b9b7635157d7ba8e8260dd9\", element=\"aad32ead-ced3-4d7e-8fa6-6c747d47cf5e\")>, <selenium.webdriver.remote.webelement.WebElement (session=\"ebf1a0799b9b7635157d7ba8e8260dd9\", element=\"3ec15d80-4a89-4435-a89f-6aba422990ef\")>, <selenium.webdriver.remote.webelement.WebElement (session=\"ebf1a0799b9b7635157d7ba8e8260dd9\", element=\"31c22cc2-7caa-41e0-9e60-949f81d9f729\")>, <selenium.webdriver.remote.webelement.WebElement (session=\"ebf1a0799b9b7635157d7ba8e8260dd9\", element=\"0edddb1c-25f3-41bd-8e78-9ef5ded0d007\")>, <selenium.webdriver.remote.webelement.WebElement (session=\"ebf1a0799b9b7635157d7ba8e8260dd9\", element=\"b4c7011b-cd91-4869-ad37-f2039c413c31\")>, <selenium.webdriver.remote.webelement.WebElement (session=\"ebf1a0799b9b7635157d7ba8e8260dd9\", element=\"c070ea8e-b322-44cb-b2af-7ac795c50d2b\")>, <selenium.webdriver.remote.webelement.WebElement (session=\"ebf1a0799b9b7635157d7ba8e8260dd9\", element=\"aff377ca-c53f-4fb4-b533-6e4809d8389e\")>, <selenium.webdriver.remote.webelement.WebElement (session=\"ebf1a0799b9b7635157d7ba8e8260dd9\", element=\"ed3f4410-0113-43c2-b8be-92918e5bbee1\")>, <selenium.webdriver.remote.webelement.WebElement (session=\"ebf1a0799b9b7635157d7ba8e8260dd9\", element=\"a35deb00-3915-4525-a774-a9aaf33e4d45\")>, <selenium.webdriver.remote.webelement.WebElement (session=\"ebf1a0799b9b7635157d7ba8e8260dd9\", element=\"a4bd2c4f-8c02-471d-839a-3d2481fc2a2b\")>, <selenium.webdriver.remote.webelement.WebElement (session=\"ebf1a0799b9b7635157d7ba8e8260dd9\", element=\"6311befe-d2cf-4720-81ed-9cbbd4c65e3a\")>, <selenium.webdriver.remote.webelement.WebElement (session=\"ebf1a0799b9b7635157d7ba8e8260dd9\", element=\"9a774dbd-4d16-4e7c-b939-af479d853f7e\")>, <selenium.webdriver.remote.webelement.WebElement (session=\"ebf1a0799b9b7635157d7ba8e8260dd9\", element=\"8144f696-2d4a-430c-ae37-de40bcaa2e5f\")>, <selenium.webdriver.remote.webelement.WebElement (session=\"ebf1a0799b9b7635157d7ba8e8260dd9\", element=\"384c3d1e-4a2e-4fc6-b3d5-6f8f1a283d1e\")>, <selenium.webdriver.remote.webelement.WebElement (session=\"ebf1a0799b9b7635157d7ba8e8260dd9\", element=\"d199d721-a001-45fd-b647-9597e21928e4\")>, <selenium.webdriver.remote.webelement.WebElement (session=\"ebf1a0799b9b7635157d7ba8e8260dd9\", element=\"a5850325-b968-42e6-9b56-4e8f24aaf6fd\")>, <selenium.webdriver.remote.webelement.WebElement (session=\"ebf1a0799b9b7635157d7ba8e8260dd9\", element=\"e37f8e0f-5d78-4eff-bacd-082659c5bb9f\")>, <selenium.webdriver.remote.webelement.WebElement (session=\"ebf1a0799b9b7635157d7ba8e8260dd9\", element=\"022a2880-e62e-4bfd-85ce-2b25c9bf4447\")>, <selenium.webdriver.remote.webelement.WebElement (session=\"ebf1a0799b9b7635157d7ba8e8260dd9\", element=\"331bf799-6651-4262-aa23-8fb20342ed9f\")>, <selenium.webdriver.remote.webelement.WebElement (session=\"ebf1a0799b9b7635157d7ba8e8260dd9\", element=\"e93089d6-8179-4524-8811-db1b9c792322\")>, <selenium.webdriver.remote.webelement.WebElement (session=\"ebf1a0799b9b7635157d7ba8e8260dd9\", element=\"a3789bf7-09bc-4121-b320-ec0da5258ab9\")>, <selenium.webdriver.remote.webelement.WebElement (session=\"ebf1a0799b9b7635157d7ba8e8260dd9\", element=\"410471a4-3a57-4896-bcbe-95239367675b\")>, <selenium.webdriver.remote.webelement.WebElement (session=\"ebf1a0799b9b7635157d7ba8e8260dd9\", element=\"9b841d4d-ccc8-43cb-88de-fc84a74ba136\")>, <selenium.webdriver.remote.webelement.WebElement (session=\"ebf1a0799b9b7635157d7ba8e8260dd9\", element=\"5dd7e0dd-d5a5-4e4d-a3c7-b931d9ce7896\")>, <selenium.webdriver.remote.webelement.WebElement (session=\"ebf1a0799b9b7635157d7ba8e8260dd9\", element=\"7f2b7675-7a2e-4b0e-b1d3-078fedf1b63a\")>, <selenium.webdriver.remote.webelement.WebElement (session=\"ebf1a0799b9b7635157d7ba8e8260dd9\", element=\"953b0d14-ea37-41bb-8f7f-fe89da5628d6\")>, <selenium.webdriver.remote.webelement.WebElement (session=\"ebf1a0799b9b7635157d7ba8e8260dd9\", element=\"5874e489-f526-4eb9-b45f-977ff24b42d4\")>, <selenium.webdriver.remote.webelement.WebElement (session=\"ebf1a0799b9b7635157d7ba8e8260dd9\", element=\"1309c79d-507b-43a8-b2a1-d13a2f66331a\")>, <selenium.webdriver.remote.webelement.WebElement (session=\"ebf1a0799b9b7635157d7ba8e8260dd9\", element=\"c848451a-ef1f-4f30-b310-64879a1fda1f\")>]\n"
     ]
    },
    {
     "ename": "AttributeError",
     "evalue": "'list' object has no attribute 'get_attribute'",
     "output_type": "error",
     "traceback": [
      "\u001b[1;31m---------------------------------------------------------------------------\u001b[0m",
      "\u001b[1;31mAttributeError\u001b[0m                            Traceback (most recent call last)",
      "\u001b[1;32m~\\AppData\\Local\\Temp\\ipykernel_10548\\754613744.py\u001b[0m in \u001b[0;36m<module>\u001b[1;34m\u001b[0m\n\u001b[0;32m      8\u001b[0m \u001b[0mimg_urls\u001b[0m \u001b[1;33m=\u001b[0m \u001b[1;33m[\u001b[0m\u001b[1;33m]\u001b[0m\u001b[1;33m\u001b[0m\u001b[1;33m\u001b[0m\u001b[0m\n\u001b[0;32m      9\u001b[0m \u001b[1;32mfor\u001b[0m \u001b[0mimage\u001b[0m \u001b[1;32min\u001b[0m \u001b[0mimages\u001b[0m\u001b[1;33m:\u001b[0m\u001b[1;33m\u001b[0m\u001b[1;33m\u001b[0m\u001b[0m\n\u001b[1;32m---> 10\u001b[1;33m     \u001b[0msource\u001b[0m\u001b[1;33m=\u001b[0m\u001b[0mimages\u001b[0m\u001b[1;33m.\u001b[0m\u001b[0mget_attribute\u001b[0m\u001b[1;33m(\u001b[0m\u001b[1;34m'src'\u001b[0m\u001b[1;33m)\u001b[0m\u001b[1;33m\u001b[0m\u001b[1;33m\u001b[0m\u001b[0m\n\u001b[0m\u001b[0;32m     11\u001b[0m     \u001b[1;32mif\u001b[0m \u001b[0msource\u001b[0m \u001b[1;32mis\u001b[0m \u001b[1;32mnot\u001b[0m \u001b[1;32mNone\u001b[0m\u001b[1;33m:\u001b[0m\u001b[1;33m\u001b[0m\u001b[1;33m\u001b[0m\u001b[0m\n\u001b[0;32m     12\u001b[0m         \u001b[1;32mif\u001b[0m\u001b[1;33m(\u001b[0m\u001b[0msource\u001b[0m\u001b[1;33m[\u001b[0m\u001b[1;36m0\u001b[0m\u001b[1;33m:\u001b[0m\u001b[1;36m4\u001b[0m\u001b[1;33m]\u001b[0m \u001b[1;33m==\u001b[0m\u001b[1;34m'http'\u001b[0m\u001b[1;33m)\u001b[0m\u001b[1;33m:\u001b[0m\u001b[1;33m\u001b[0m\u001b[1;33m\u001b[0m\u001b[0m\n",
      "\u001b[1;31mAttributeError\u001b[0m: 'list' object has no attribute 'get_attribute'"
     ]
    }
   ],
   "source": [
    "#Scraping 10 images of guitar:\n",
    "for _ in range(20):\n",
    "    driver.execute_script(\"window.scrollBy(0,10)\")\n",
    "    \n",
    "images = driver.find_elements(By.XPATH,'//img[@class=\"rg_i Q4LuWd\"]')\n",
    "print(images)\n",
    "\n",
    "img_urls = []\n",
    "for image in images:\n",
    "    source=images.get_attribute('src')\n",
    "    if source is not None:\n",
    "        if(source[0:4] =='http'):\n",
    "            img_urls.append(source)\n",
    "            \n",
    "for i in range(len(img_urls)):\n",
    "    if i >10:\n",
    "        breakBy.XPATH,\n",
    "    print(\"Downloading{0} of {1} images\".format(1,10))\n",
    "    response=requests.get(img-urls[i])\n",
    "    file = open(r\"C:\\Users\\md\\Downloads\\New folder\"+str(i)+\".jpg\",\"wb\")\n",
    "    file.write(response.content)\n",
    "    print(images)"
   ]
  },
  {
   "cell_type": "code",
   "execution_count": 81,
   "id": "4a26a665",
   "metadata": {},
   "outputs": [
    {
     "name": "stdout",
     "output_type": "stream",
     "text": [
      "60\n"
     ]
    }
   ],
   "source": [
    "#Checking length:\n",
    "print(len(images))"
   ]
  },
  {
   "cell_type": "code",
   "execution_count": 82,
   "id": "ba2ab50e",
   "metadata": {},
   "outputs": [
    {
     "data": {
      "text/html": [
       "<div>\n",
       "<style scoped>\n",
       "    .dataframe tbody tr th:only-of-type {\n",
       "        vertical-align: middle;\n",
       "    }\n",
       "\n",
       "    .dataframe tbody tr th {\n",
       "        vertical-align: top;\n",
       "    }\n",
       "\n",
       "    .dataframe thead th {\n",
       "        text-align: right;\n",
       "    }\n",
       "</style>\n",
       "<table border=\"1\" class=\"dataframe\">\n",
       "  <thead>\n",
       "    <tr style=\"text-align: right;\">\n",
       "      <th></th>\n",
       "      <th>images</th>\n",
       "    </tr>\n",
       "  </thead>\n",
       "  <tbody>\n",
       "    <tr>\n",
       "      <th>0</th>\n",
       "      <td>&lt;selenium.webdriver.remote.webelement.WebEleme...</td>\n",
       "    </tr>\n",
       "    <tr>\n",
       "      <th>1</th>\n",
       "      <td>&lt;selenium.webdriver.remote.webelement.WebEleme...</td>\n",
       "    </tr>\n",
       "    <tr>\n",
       "      <th>2</th>\n",
       "      <td>&lt;selenium.webdriver.remote.webelement.WebEleme...</td>\n",
       "    </tr>\n",
       "    <tr>\n",
       "      <th>3</th>\n",
       "      <td>&lt;selenium.webdriver.remote.webelement.WebEleme...</td>\n",
       "    </tr>\n",
       "    <tr>\n",
       "      <th>4</th>\n",
       "      <td>&lt;selenium.webdriver.remote.webelement.WebEleme...</td>\n",
       "    </tr>\n",
       "    <tr>\n",
       "      <th>5</th>\n",
       "      <td>&lt;selenium.webdriver.remote.webelement.WebEleme...</td>\n",
       "    </tr>\n",
       "    <tr>\n",
       "      <th>6</th>\n",
       "      <td>&lt;selenium.webdriver.remote.webelement.WebEleme...</td>\n",
       "    </tr>\n",
       "    <tr>\n",
       "      <th>7</th>\n",
       "      <td>&lt;selenium.webdriver.remote.webelement.WebEleme...</td>\n",
       "    </tr>\n",
       "    <tr>\n",
       "      <th>8</th>\n",
       "      <td>&lt;selenium.webdriver.remote.webelement.WebEleme...</td>\n",
       "    </tr>\n",
       "    <tr>\n",
       "      <th>9</th>\n",
       "      <td>&lt;selenium.webdriver.remote.webelement.WebEleme...</td>\n",
       "    </tr>\n",
       "    <tr>\n",
       "      <th>10</th>\n",
       "      <td>&lt;selenium.webdriver.remote.webelement.WebEleme...</td>\n",
       "    </tr>\n",
       "    <tr>\n",
       "      <th>11</th>\n",
       "      <td>&lt;selenium.webdriver.remote.webelement.WebEleme...</td>\n",
       "    </tr>\n",
       "    <tr>\n",
       "      <th>12</th>\n",
       "      <td>&lt;selenium.webdriver.remote.webelement.WebEleme...</td>\n",
       "    </tr>\n",
       "    <tr>\n",
       "      <th>13</th>\n",
       "      <td>&lt;selenium.webdriver.remote.webelement.WebEleme...</td>\n",
       "    </tr>\n",
       "    <tr>\n",
       "      <th>14</th>\n",
       "      <td>&lt;selenium.webdriver.remote.webelement.WebEleme...</td>\n",
       "    </tr>\n",
       "    <tr>\n",
       "      <th>15</th>\n",
       "      <td>&lt;selenium.webdriver.remote.webelement.WebEleme...</td>\n",
       "    </tr>\n",
       "    <tr>\n",
       "      <th>16</th>\n",
       "      <td>&lt;selenium.webdriver.remote.webelement.WebEleme...</td>\n",
       "    </tr>\n",
       "    <tr>\n",
       "      <th>17</th>\n",
       "      <td>&lt;selenium.webdriver.remote.webelement.WebEleme...</td>\n",
       "    </tr>\n",
       "    <tr>\n",
       "      <th>18</th>\n",
       "      <td>&lt;selenium.webdriver.remote.webelement.WebEleme...</td>\n",
       "    </tr>\n",
       "    <tr>\n",
       "      <th>19</th>\n",
       "      <td>&lt;selenium.webdriver.remote.webelement.WebEleme...</td>\n",
       "    </tr>\n",
       "    <tr>\n",
       "      <th>20</th>\n",
       "      <td>&lt;selenium.webdriver.remote.webelement.WebEleme...</td>\n",
       "    </tr>\n",
       "    <tr>\n",
       "      <th>21</th>\n",
       "      <td>&lt;selenium.webdriver.remote.webelement.WebEleme...</td>\n",
       "    </tr>\n",
       "    <tr>\n",
       "      <th>22</th>\n",
       "      <td>&lt;selenium.webdriver.remote.webelement.WebEleme...</td>\n",
       "    </tr>\n",
       "    <tr>\n",
       "      <th>23</th>\n",
       "      <td>&lt;selenium.webdriver.remote.webelement.WebEleme...</td>\n",
       "    </tr>\n",
       "    <tr>\n",
       "      <th>24</th>\n",
       "      <td>&lt;selenium.webdriver.remote.webelement.WebEleme...</td>\n",
       "    </tr>\n",
       "    <tr>\n",
       "      <th>25</th>\n",
       "      <td>&lt;selenium.webdriver.remote.webelement.WebEleme...</td>\n",
       "    </tr>\n",
       "    <tr>\n",
       "      <th>26</th>\n",
       "      <td>&lt;selenium.webdriver.remote.webelement.WebEleme...</td>\n",
       "    </tr>\n",
       "    <tr>\n",
       "      <th>27</th>\n",
       "      <td>&lt;selenium.webdriver.remote.webelement.WebEleme...</td>\n",
       "    </tr>\n",
       "    <tr>\n",
       "      <th>28</th>\n",
       "      <td>&lt;selenium.webdriver.remote.webelement.WebEleme...</td>\n",
       "    </tr>\n",
       "    <tr>\n",
       "      <th>29</th>\n",
       "      <td>&lt;selenium.webdriver.remote.webelement.WebEleme...</td>\n",
       "    </tr>\n",
       "    <tr>\n",
       "      <th>30</th>\n",
       "      <td>&lt;selenium.webdriver.remote.webelement.WebEleme...</td>\n",
       "    </tr>\n",
       "    <tr>\n",
       "      <th>31</th>\n",
       "      <td>&lt;selenium.webdriver.remote.webelement.WebEleme...</td>\n",
       "    </tr>\n",
       "    <tr>\n",
       "      <th>32</th>\n",
       "      <td>&lt;selenium.webdriver.remote.webelement.WebEleme...</td>\n",
       "    </tr>\n",
       "    <tr>\n",
       "      <th>33</th>\n",
       "      <td>&lt;selenium.webdriver.remote.webelement.WebEleme...</td>\n",
       "    </tr>\n",
       "    <tr>\n",
       "      <th>34</th>\n",
       "      <td>&lt;selenium.webdriver.remote.webelement.WebEleme...</td>\n",
       "    </tr>\n",
       "    <tr>\n",
       "      <th>35</th>\n",
       "      <td>&lt;selenium.webdriver.remote.webelement.WebEleme...</td>\n",
       "    </tr>\n",
       "    <tr>\n",
       "      <th>36</th>\n",
       "      <td>&lt;selenium.webdriver.remote.webelement.WebEleme...</td>\n",
       "    </tr>\n",
       "    <tr>\n",
       "      <th>37</th>\n",
       "      <td>&lt;selenium.webdriver.remote.webelement.WebEleme...</td>\n",
       "    </tr>\n",
       "    <tr>\n",
       "      <th>38</th>\n",
       "      <td>&lt;selenium.webdriver.remote.webelement.WebEleme...</td>\n",
       "    </tr>\n",
       "    <tr>\n",
       "      <th>39</th>\n",
       "      <td>&lt;selenium.webdriver.remote.webelement.WebEleme...</td>\n",
       "    </tr>\n",
       "    <tr>\n",
       "      <th>40</th>\n",
       "      <td>&lt;selenium.webdriver.remote.webelement.WebEleme...</td>\n",
       "    </tr>\n",
       "    <tr>\n",
       "      <th>41</th>\n",
       "      <td>&lt;selenium.webdriver.remote.webelement.WebEleme...</td>\n",
       "    </tr>\n",
       "    <tr>\n",
       "      <th>42</th>\n",
       "      <td>&lt;selenium.webdriver.remote.webelement.WebEleme...</td>\n",
       "    </tr>\n",
       "    <tr>\n",
       "      <th>43</th>\n",
       "      <td>&lt;selenium.webdriver.remote.webelement.WebEleme...</td>\n",
       "    </tr>\n",
       "    <tr>\n",
       "      <th>44</th>\n",
       "      <td>&lt;selenium.webdriver.remote.webelement.WebEleme...</td>\n",
       "    </tr>\n",
       "    <tr>\n",
       "      <th>45</th>\n",
       "      <td>&lt;selenium.webdriver.remote.webelement.WebEleme...</td>\n",
       "    </tr>\n",
       "    <tr>\n",
       "      <th>46</th>\n",
       "      <td>&lt;selenium.webdriver.remote.webelement.WebEleme...</td>\n",
       "    </tr>\n",
       "    <tr>\n",
       "      <th>47</th>\n",
       "      <td>&lt;selenium.webdriver.remote.webelement.WebEleme...</td>\n",
       "    </tr>\n",
       "    <tr>\n",
       "      <th>48</th>\n",
       "      <td>&lt;selenium.webdriver.remote.webelement.WebEleme...</td>\n",
       "    </tr>\n",
       "    <tr>\n",
       "      <th>49</th>\n",
       "      <td>&lt;selenium.webdriver.remote.webelement.WebEleme...</td>\n",
       "    </tr>\n",
       "    <tr>\n",
       "      <th>50</th>\n",
       "      <td>&lt;selenium.webdriver.remote.webelement.WebEleme...</td>\n",
       "    </tr>\n",
       "    <tr>\n",
       "      <th>51</th>\n",
       "      <td>&lt;selenium.webdriver.remote.webelement.WebEleme...</td>\n",
       "    </tr>\n",
       "    <tr>\n",
       "      <th>52</th>\n",
       "      <td>&lt;selenium.webdriver.remote.webelement.WebEleme...</td>\n",
       "    </tr>\n",
       "    <tr>\n",
       "      <th>53</th>\n",
       "      <td>&lt;selenium.webdriver.remote.webelement.WebEleme...</td>\n",
       "    </tr>\n",
       "    <tr>\n",
       "      <th>54</th>\n",
       "      <td>&lt;selenium.webdriver.remote.webelement.WebEleme...</td>\n",
       "    </tr>\n",
       "    <tr>\n",
       "      <th>55</th>\n",
       "      <td>&lt;selenium.webdriver.remote.webelement.WebEleme...</td>\n",
       "    </tr>\n",
       "    <tr>\n",
       "      <th>56</th>\n",
       "      <td>&lt;selenium.webdriver.remote.webelement.WebEleme...</td>\n",
       "    </tr>\n",
       "    <tr>\n",
       "      <th>57</th>\n",
       "      <td>&lt;selenium.webdriver.remote.webelement.WebEleme...</td>\n",
       "    </tr>\n",
       "    <tr>\n",
       "      <th>58</th>\n",
       "      <td>&lt;selenium.webdriver.remote.webelement.WebEleme...</td>\n",
       "    </tr>\n",
       "    <tr>\n",
       "      <th>59</th>\n",
       "      <td>&lt;selenium.webdriver.remote.webelement.WebEleme...</td>\n",
       "    </tr>\n",
       "  </tbody>\n",
       "</table>\n",
       "</div>"
      ],
      "text/plain": [
       "                                               images\n",
       "0   <selenium.webdriver.remote.webelement.WebEleme...\n",
       "1   <selenium.webdriver.remote.webelement.WebEleme...\n",
       "2   <selenium.webdriver.remote.webelement.WebEleme...\n",
       "3   <selenium.webdriver.remote.webelement.WebEleme...\n",
       "4   <selenium.webdriver.remote.webelement.WebEleme...\n",
       "5   <selenium.webdriver.remote.webelement.WebEleme...\n",
       "6   <selenium.webdriver.remote.webelement.WebEleme...\n",
       "7   <selenium.webdriver.remote.webelement.WebEleme...\n",
       "8   <selenium.webdriver.remote.webelement.WebEleme...\n",
       "9   <selenium.webdriver.remote.webelement.WebEleme...\n",
       "10  <selenium.webdriver.remote.webelement.WebEleme...\n",
       "11  <selenium.webdriver.remote.webelement.WebEleme...\n",
       "12  <selenium.webdriver.remote.webelement.WebEleme...\n",
       "13  <selenium.webdriver.remote.webelement.WebEleme...\n",
       "14  <selenium.webdriver.remote.webelement.WebEleme...\n",
       "15  <selenium.webdriver.remote.webelement.WebEleme...\n",
       "16  <selenium.webdriver.remote.webelement.WebEleme...\n",
       "17  <selenium.webdriver.remote.webelement.WebEleme...\n",
       "18  <selenium.webdriver.remote.webelement.WebEleme...\n",
       "19  <selenium.webdriver.remote.webelement.WebEleme...\n",
       "20  <selenium.webdriver.remote.webelement.WebEleme...\n",
       "21  <selenium.webdriver.remote.webelement.WebEleme...\n",
       "22  <selenium.webdriver.remote.webelement.WebEleme...\n",
       "23  <selenium.webdriver.remote.webelement.WebEleme...\n",
       "24  <selenium.webdriver.remote.webelement.WebEleme...\n",
       "25  <selenium.webdriver.remote.webelement.WebEleme...\n",
       "26  <selenium.webdriver.remote.webelement.WebEleme...\n",
       "27  <selenium.webdriver.remote.webelement.WebEleme...\n",
       "28  <selenium.webdriver.remote.webelement.WebEleme...\n",
       "29  <selenium.webdriver.remote.webelement.WebEleme...\n",
       "30  <selenium.webdriver.remote.webelement.WebEleme...\n",
       "31  <selenium.webdriver.remote.webelement.WebEleme...\n",
       "32  <selenium.webdriver.remote.webelement.WebEleme...\n",
       "33  <selenium.webdriver.remote.webelement.WebEleme...\n",
       "34  <selenium.webdriver.remote.webelement.WebEleme...\n",
       "35  <selenium.webdriver.remote.webelement.WebEleme...\n",
       "36  <selenium.webdriver.remote.webelement.WebEleme...\n",
       "37  <selenium.webdriver.remote.webelement.WebEleme...\n",
       "38  <selenium.webdriver.remote.webelement.WebEleme...\n",
       "39  <selenium.webdriver.remote.webelement.WebEleme...\n",
       "40  <selenium.webdriver.remote.webelement.WebEleme...\n",
       "41  <selenium.webdriver.remote.webelement.WebEleme...\n",
       "42  <selenium.webdriver.remote.webelement.WebEleme...\n",
       "43  <selenium.webdriver.remote.webelement.WebEleme...\n",
       "44  <selenium.webdriver.remote.webelement.WebEleme...\n",
       "45  <selenium.webdriver.remote.webelement.WebEleme...\n",
       "46  <selenium.webdriver.remote.webelement.WebEleme...\n",
       "47  <selenium.webdriver.remote.webelement.WebEleme...\n",
       "48  <selenium.webdriver.remote.webelement.WebEleme...\n",
       "49  <selenium.webdriver.remote.webelement.WebEleme...\n",
       "50  <selenium.webdriver.remote.webelement.WebEleme...\n",
       "51  <selenium.webdriver.remote.webelement.WebEleme...\n",
       "52  <selenium.webdriver.remote.webelement.WebEleme...\n",
       "53  <selenium.webdriver.remote.webelement.WebEleme...\n",
       "54  <selenium.webdriver.remote.webelement.WebEleme...\n",
       "55  <selenium.webdriver.remote.webelement.WebEleme...\n",
       "56  <selenium.webdriver.remote.webelement.WebEleme...\n",
       "57  <selenium.webdriver.remote.webelement.WebEleme...\n",
       "58  <selenium.webdriver.remote.webelement.WebEleme...\n",
       "59  <selenium.webdriver.remote.webelement.WebEleme..."
      ]
     },
     "execution_count": 82,
     "metadata": {},
     "output_type": "execute_result"
    }
   ],
   "source": [
    "#Make a dataframe\n",
    "data = pd.DataFrame()\n",
    "data[\"images\"] = images\n",
    "data"
   ]
  },
  {
   "cell_type": "code",
   "execution_count": 83,
   "id": "eb5eec35",
   "metadata": {},
   "outputs": [],
   "source": [
    "#save data to csv as a file\n",
    "data.to_csv('Images.csv', index=False )"
   ]
  },
  {
   "cell_type": "markdown",
   "id": "78358654",
   "metadata": {},
   "source": [
    "# Q5.Scrap latitude or longitude of delhi city."
   ]
  },
  {
   "cell_type": "code",
   "execution_count": 107,
   "id": "e9658ff2",
   "metadata": {},
   "outputs": [],
   "source": [
    "#let's get connect to the webdriver\n",
    "driver=webdriver.Chrome(r\"C:\\Users\\md\\Downloads\\chromedriver_win32(1)\\Chromedriver.exe\")\n",
    "driver.get(\"https://www.google.com/maps/\")"
   ]
  },
  {
   "cell_type": "code",
   "execution_count": 55,
   "id": "70bf5867",
   "metadata": {},
   "outputs": [],
   "source": [
    "# find url from web page:\n",
    "url =\"https://www.google.com/maps/search/delhi/@27.8986752,78.0664832,13z\"\n",
    "driver.get(url)\n",
    "time.sleep(2)"
   ]
  },
  {
   "cell_type": "code",
   "execution_count": 109,
   "id": "c2a290b4",
   "metadata": {},
   "outputs": [
    {
     "name": "stdout",
     "output_type": "stream",
     "text": [
      "Delhi\n"
     ]
    }
   ],
   "source": [
    "# find location_tags and seach element:\n",
    "try:\n",
    "    Location_tags=driver.find_element(By.CLASS_NAME,\"XYuRPe\")\n",
    "    print(Location_tags.text)\n",
    "except NoSuchElementException as e:\n",
    "    #print('Exception on Raised as\", e)\n",
    "    Location_tags=driver.find_element(By.CLASS_NAME,\"cGyruf b9DfJb\")\n",
    "    print(Location_tags.text)\n",
    "    search=driver.find_element(By.XPATH,'//[@class=\"mL3xi\"]').send_keys(\"delhi\")\n",
    "    time.sleep(2)"
   ]
  },
  {
   "cell_type": "code",
   "execution_count": 123,
   "id": "ac2436b0",
   "metadata": {},
   "outputs": [
    {
     "name": "stdout",
     "output_type": "stream",
     "text": [
      "[<selenium.webdriver.remote.webelement.WebElement (session=\"4a242fe82c6a00361b092673e6f8d6c5\", element=\"cfe5ebff-356b-4613-ae87-a76129aa5f5e\")>, <selenium.webdriver.remote.webelement.WebElement (session=\"4a242fe82c6a00361b092673e6f8d6c5\", element=\"90af8241-fc8f-47c2-ac2f-23e6c33cadd1\")>, <selenium.webdriver.remote.webelement.WebElement (session=\"4a242fe82c6a00361b092673e6f8d6c5\", element=\"c91df38c-1995-46e9-9c7e-58a88bf16dfc\")>, <selenium.webdriver.remote.webelement.WebElement (session=\"4a242fe82c6a00361b092673e6f8d6c5\", element=\"48509a6d-db4b-493f-80ce-7bc7e9dbaf2d\")>, <selenium.webdriver.remote.webelement.WebElement (session=\"4a242fe82c6a00361b092673e6f8d6c5\", element=\"7af04082-9ce0-4e93-a02b-00c0dee03093\")>, <selenium.webdriver.remote.webelement.WebElement (session=\"4a242fe82c6a00361b092673e6f8d6c5\", element=\"29a5cd6f-8751-4560-9bf3-92874b6f3b1a\")>]\n"
     ]
    }
   ],
   "source": [
    "# Find latitude:\n",
    "latitude = driver.find_elements(By.XPATH,'//div[@class=\"Nv2PK Q2HXcd THOPZb\"]')\n",
    "print(latitude)"
   ]
  },
  {
   "cell_type": "code",
   "execution_count": 124,
   "id": "e64efe06",
   "metadata": {},
   "outputs": [
    {
     "name": "stdout",
     "output_type": "stream",
     "text": [
      "<selenium.webdriver.remote.webelement.WebElement (session=\"4a242fe82c6a00361b092673e6f8d6c5\", element=\"ee44a046-b3a1-4276-9b35-973ac3b58c5c\")>\n"
     ]
    }
   ],
   "source": [
    "# Find longitude:\n",
    "logitude = driver.find_element(By.XPATH,'//div[@class=\"bfdHYd Ppzolf OFBs3e\"]')\n",
    "print(logitude)"
   ]
  },
  {
   "cell_type": "markdown",
   "id": "23c3087b",
   "metadata": {},
   "source": [
    "# Q6. This question has left by sir during doubt clearing session."
   ]
  },
  {
   "cell_type": "markdown",
   "id": "047deaf5",
   "metadata": {},
   "source": [
    "# Q7. scrap all the details of best gaming laptops."
   ]
  },
  {
   "cell_type": "code",
   "execution_count": 125,
   "id": "2c0234fc",
   "metadata": {},
   "outputs": [],
   "source": [
    "# import the libraries\n",
    "import pandas as pd\n",
    "import requests\n",
    "import selenium\n",
    "from selenium import webdriver\n",
    "import warnings\n",
    "warnings.filterwarnings('ignore')\n",
    "from selenium.webdriver.common.by import By\n",
    "import time\n",
    "from selenium.common.exceptions import NoSuchElementException"
   ]
  },
  {
   "cell_type": "code",
   "execution_count": 134,
   "id": "e31f247b",
   "metadata": {},
   "outputs": [],
   "source": [
    "#let's get connect to the webdriver\n",
    "driver=webdriver.Chrome(r\"C:\\Users\\md\\Downloads\\chromedriver_win32(1)\\Chromedriver.exe\")\n",
    "driver.get(\"https://www.digit.in/\")"
   ]
  },
  {
   "cell_type": "code",
   "execution_count": 135,
   "id": "c98d8ec5",
   "metadata": {},
   "outputs": [],
   "source": [
    "#get url :\n",
    "url = \"https://www.digit.in/top-products/best-gaming-laptops-40.html\"\n",
    "driver.get(url)\n",
    "time.sleep(2)"
   ]
  },
  {
   "cell_type": "code",
   "execution_count": 138,
   "id": "3d1bd974",
   "metadata": {},
   "outputs": [
    {
     "name": "stdout",
     "output_type": "stream",
     "text": [
      "Basic Information\n",
      "Model name : Titan GT77\n",
      "Launch date (global) : 14-07-2022\n",
      "operating system (with version) : Windows 11 Home\n",
      "laptop type : Gaming\n",
      "Series : Titan\n"
     ]
    }
   ],
   "source": [
    "#Scrap model name:\n",
    "try:\n",
    "    model_name=driver.find_element(By.CLASS_NAME,\"remaining-details\")\n",
    "    print(model_name.text)\n",
    "except NoSuchElementException as e:\n",
    "    #print('Exception on Raised as\", e)\n",
    "    model_name=driver.find_element(By.CLASS_NAME,\"Model name\")\n",
    "    print(model_name.text)"
   ]
  },
  {
   "cell_type": "code",
   "execution_count": 143,
   "id": "7234f108",
   "metadata": {},
   "outputs": [
    {
     "name": "stdout",
     "output_type": "stream",
     "text": [
      "                            All Review\n",
      "                            Amazon\n",
      "                            Flipkart\n",
      "                            Digit\n",
      "                        \n"
     ]
    }
   ],
   "source": [
    "#Scrap reviews:\n",
    "try:\n",
    "    reviews=driver.find_element(By.CLASS_NAME,\"Select-Review\")\n",
    "    print(reviews.text)\n",
    "except NoSuchElementException as e:\n",
    "    #print('Exception on Raised as\", e)\n",
    "    reviews=driver.find_element(By.CLASS_NAME,\"form-control varientP\")\n",
    "    print(reviews.text)"
   ]
  },
  {
   "cell_type": "code",
   "execution_count": 144,
   "id": "8fc4385e",
   "metadata": {},
   "outputs": [
    {
     "name": "stdout",
     "output_type": "stream",
     "text": [
      "Overall Rating\n"
     ]
    }
   ],
   "source": [
    "#Scrap Rating:\n",
    "try:\n",
    "    rating=driver.find_element(By.CLASS_NAME,\"User-Coment\")\n",
    "    print(rating.text)\n",
    "except NoSuchElementException as e:\n",
    "    #print('Exception on Raised as\", e)\n",
    "    rating=driver.find_element(By.CLASS_NAME,\"Over-allrating\")\n",
    "    print(rating.text)"
   ]
  },
  {
   "cell_type": "code",
   "execution_count": 147,
   "id": "382feedf",
   "metadata": {},
   "outputs": [
    {
     "name": "stdout",
     "output_type": "stream",
     "text": [
      "MSI Titan GT77 12UHS 12th Gen Core i9-12900HX (2022) Full Specifications\n"
     ]
    }
   ],
   "source": [
    "#Scrap laptop in news :\n",
    "try:\n",
    "    news=driver.find_element(By.CLASS_NAME,\"heading\")\n",
    "    print(news.text)\n",
    "except NoSuchElementException as e:\n",
    "    #print(\"Exception on Raised as\", e)\n",
    "    news=driver.find_element(By.CLASS_NAME,\"compare_container\")\n",
    "    print(news.text)"
   ]
  },
  {
   "cell_type": "code",
   "execution_count": 148,
   "id": "bbd0c813",
   "metadata": {},
   "outputs": [
    {
     "name": "stdout",
     "output_type": "stream",
     "text": [
      "[<selenium.webdriver.remote.webelement.WebElement (session=\"330f8ed5a84c698803e28e78a65a6a11\", element=\"275e0e6e-affc-4c94-b5f3-00afe99e6114\")>]\n"
     ]
    }
   ],
   "source": [
    "#Scrap laptop image:\n",
    "images = driver.find_elements(By.XPATH,'//img[@class=\"maxi\"]')\n",
    "print(images)"
   ]
  },
  {
   "cell_type": "code",
   "execution_count": 149,
   "id": "255f4aa9",
   "metadata": {},
   "outputs": [
    {
     "name": "stdout",
     "output_type": "stream",
     "text": [
      "MSI Titan GT77 12UHS 12th Gen Core i9-12900HX (2022) Brief Description\n",
      "MSI Titan GT77 12UHS 12th Gen Core i9-12900HX (2022) is a stylish and powerful Gaming Laptop and is powered by 16 core and sports a 17.3 inchOn the memory front, the laptop is equipped with a hard drive of 2 TB and a 64 GB DDR5 RAM,thereby making it possible to store ample amount of data.All the above features ensure that you breeze through all your tasks throughout the day.\n"
     ]
    }
   ],
   "source": [
    "# Scraping description:\n",
    "try:\n",
    "    des=driver.find_element(By.CLASS_NAME,\"content_overview\")\n",
    "    print(des.text)\n",
    "except NoSuchElementException as e:\n",
    "    #print('Exception on Raised as\", e)\n",
    "    des=driver.find_element(By.CLASS_NAME,\"head-gaevent\")\n",
    "    print(des.text)"
   ]
  },
  {
   "cell_type": "markdown",
   "id": "c1033efa",
   "metadata": {},
   "source": [
    "# Q8. Scrap billionaires details:"
   ]
  },
  {
   "cell_type": "code",
   "execution_count": 156,
   "id": "1b094e99",
   "metadata": {},
   "outputs": [],
   "source": [
    "#let's get connect to the webdriver\n",
    "driver=webdriver.Chrome(r\"C:\\Users\\md\\Downloads\\chromedriver_win32(1)\\Chromedriver.exe\")\n",
    "driver.get(\"https://www.forbes.com/\")"
   ]
  },
  {
   "cell_type": "code",
   "execution_count": 157,
   "id": "fb7ce7e6",
   "metadata": {},
   "outputs": [],
   "source": [
    "#get url :\n",
    "url =\"https://www.forbes.com/billionaires/\"\n",
    "driver.get(url)\n",
    "time.sleep(2)"
   ]
  },
  {
   "cell_type": "code",
   "execution_count": 84,
   "id": "b19834ea",
   "metadata": {},
   "outputs": [],
   "source": [
    "#Empty list:\n",
    "Name = []\n",
    "Rank = []\n",
    "Net_worth = []\n",
    "Company = []\n",
    "Source = []\n",
    "Age = []"
   ]
  },
  {
   "cell_type": "code",
   "execution_count": 360,
   "id": "f367302e",
   "metadata": {},
   "outputs": [],
   "source": [
    "#scrap billiniors name\n",
    "try:\n",
    "    name=driver.find_elements(By.XPATH,'//*[@id=\"personName\"]/html/body/div[1]/div[1]/div/div[2]/div[3]/div[2]/div[2]/div[2]/div[1]/div[2]/div[1]/div[2]/div')\n",
    "    Name.append(name)\n",
    "except NoSuchElementException:\n",
    "    name.append('-')\n",
    "except NoSuchElementException as e:\n",
    "    name=driver.find_all_elements(By.XPATH,'//*[@id=\"Elon Musk\"]/html/body/div[1]/div[1]/div/div[2]/div[3]/div[2]/div[2]/div[2]/div[1]/div[2]/div[1]/div[2]/div')\n",
    "    Name.append(name)\n",
    "    time.sleep(2)"
   ]
  },
  {
   "cell_type": "code",
   "execution_count": 361,
   "id": "7d9b300c",
   "metadata": {},
   "outputs": [
    {
     "data": {
      "text/plain": [
       "15"
      ]
     },
     "execution_count": 361,
     "metadata": {},
     "output_type": "execute_result"
    }
   ],
   "source": [
    "#Checking length:\n",
    "len(Name)"
   ]
  },
  {
   "cell_type": "code",
   "execution_count": 349,
   "id": "c4db30ce",
   "metadata": {},
   "outputs": [],
   "source": [
    "#Scrap billiniors rank:\n",
    "try:\n",
    "    rank=driver.find_elements(By.XPATH,'//*[@id=\"rank\"]/html/body/div[1]/div[1]/div/div[2]/div[3]/div[2]/div[2]/div[2]/div[1]/div[2]/div[1]/div[1]')\n",
    "    Rank.append(rank)\n",
    "except NoSuchElementException:\n",
    "    Rank.append('-')\n",
    "except NoSuchElementException as e:\n",
    "    rank=driver.find_all_elements(By.XPATH,'//*[@id=\"rank active-sort\"]/html/body/div[1]/div[1]/div/div[2]/div[3]/div[2]/div[2]/div[2]/div[1]/div[2]/div[1]/div[1]')\n",
    "    Rank.append(rank)\n",
    "    time.sleep(2)"
   ]
  },
  {
   "cell_type": "code",
   "execution_count": 328,
   "id": "a8273910",
   "metadata": {},
   "outputs": [
    {
     "data": {
      "text/plain": [
       "15"
      ]
     },
     "execution_count": 328,
     "metadata": {},
     "output_type": "execute_result"
    }
   ],
   "source": [
    "#Checking Rank:\n",
    "len(Rank)"
   ]
  },
  {
   "cell_type": "code",
   "execution_count": 320,
   "id": "68a70b8a",
   "metadata": {},
   "outputs": [],
   "source": [
    "#Scrap billiniors net_worth:\n",
    "try:\n",
    "    net_worth=driver.find_elements(By.XPATH,'//*[@id=\"netWorth\"]/html/body/div[1]/div[1]/div/div[2]/div[3]/div[2]/div[2]/div[2]/div[1]/div[2]/div[1]/div[3]')\n",
    "    Net_worth.append(net_worth)\n",
    "except NoSuchElementException:\n",
    "    Net_worth.append('-')\n",
    "except NoSuchElementException as e:\n",
    "    net_worth=driver.find_all_elements(By.XPATH,'//*[@id=\"display\"]/html/body/div[1]/div[1]/div/div[2]/div[3]/div[2]/div[2]/div[2]/div[1]/div[2]/div[1]/div[3]')\n",
    "    Net_worth.append(net_worth)\n",
    "    time.sleep(2)"
   ]
  },
  {
   "cell_type": "code",
   "execution_count": 321,
   "id": "f378ddfb",
   "metadata": {},
   "outputs": [
    {
     "data": {
      "text/plain": [
       "15"
      ]
     },
     "execution_count": 321,
     "metadata": {},
     "output_type": "execute_result"
    }
   ],
   "source": [
    "#Checking length:\n",
    "len(Net_worth)"
   ]
  },
  {
   "cell_type": "code",
   "execution_count": 312,
   "id": "a89fc2bb",
   "metadata": {},
   "outputs": [],
   "source": [
    "#Scrap billiniors rank:\n",
    "try:\n",
    "    country=driver.find_elements(By.XPATH,'//*[@id=\"header-name\"]/html/body/div[1]/div[1]/div/div[2]/div[3]/div[2]/div[2]/div[1]/div/div[2]/div[5]/div[1]/div')\n",
    "    Country.append(country)\n",
    "except NoSuchElementException:\n",
    "    Country.append('-')\n",
    "except NoSuchElementException as e:\n",
    "    counrty=driver.find_all_elements(By.XPATH,'//*[@id=\"display\"]/html/body/div[1]/div[1]/div/div[2]/div[3]/div[2]/div[2]/div[1]/div/div[2]/div[5]/div[1]/div')\n",
    "    Country.append(country)\n",
    "    time.sleep(2)"
   ]
  },
  {
   "cell_type": "code",
   "execution_count": 313,
   "id": "402afcee",
   "metadata": {},
   "outputs": [
    {
     "data": {
      "text/plain": [
       "15"
      ]
     },
     "execution_count": 313,
     "metadata": {},
     "output_type": "execute_result"
    }
   ],
   "source": [
    "#Checking lenght:\n",
    "len(Country)"
   ]
  },
  {
   "cell_type": "code",
   "execution_count": 368,
   "id": "61a76a67",
   "metadata": {},
   "outputs": [],
   "source": [
    "#Scraping billinoirs age:\n",
    "try:\n",
    "    age=driver.find_elements(By.XPATH,'//*[@id=\"header-name\"]/html/body/div[1]/div[1]/div/div[2]/div[3]/div[2]/div[2]/div[2]/div[1]/div[2]/div[1]/div[4]')\n",
    "    Age.append(age)\n",
    "except NoSuchElementException:\n",
    "    age.append('-')\n",
    "except NoSuchElementException as e:\n",
    "    age=driver.find_all_elements(By.XPATH,'//*[@id=\"age\"]/html/body/div[1]/div[1]/div/div[2]/div[3]/div[2]/div[2]/div[2]/div[1]/div[2]/div[1]/div[4]')\n",
    "    Age.append(age)\n",
    "    time.sleep(2)"
   ]
  },
  {
   "cell_type": "code",
   "execution_count": 369,
   "id": "cea81984",
   "metadata": {},
   "outputs": [
    {
     "data": {
      "text/plain": [
       "15"
      ]
     },
     "execution_count": 369,
     "metadata": {},
     "output_type": "execute_result"
    }
   ],
   "source": [
    "#checking length: \n",
    "len(Age)"
   ]
  },
  {
   "cell_type": "code",
   "execution_count": 290,
   "id": "a867f7ea",
   "metadata": {},
   "outputs": [],
   "source": [
    "try:\n",
    "    source=driver.find_elements(By.XPATH,'//*[@id=\"header-name\"]/html/body/div[1]/div[1]/div/div[2]/div[3]/div[2]/div[2]/div[2]/div[1]/div[2]/div[1]/div[6]/div/div[1]/span[1]')\n",
    "    Source.append(source)\n",
    "except NoSuchElementException:\n",
    "    source.append('-')\n",
    "except NoSuchElementException as e:\n",
    "    source=driver.find_all_elements(By.XPATH,'//*[@id=\"source-text\"]/html/body/div[1]/div[1]/div/div[2]/div[3]/div[2]/div[2]/div[2]/div[1]/div[2]/div[1]/div[6]/div/div[1]/span[1]')\n",
    "    Source.append(source)\n",
    "    time.sleep(2)"
   ]
  },
  {
   "cell_type": "code",
   "execution_count": 303,
   "id": "afb262f1",
   "metadata": {},
   "outputs": [
    {
     "data": {
      "text/plain": [
       "15"
      ]
     },
     "execution_count": 303,
     "metadata": {},
     "output_type": "execute_result"
    }
   ],
   "source": [
    "#Checking length:\n",
    "len(Source)"
   ]
  },
  {
   "cell_type": "code",
   "execution_count": null,
   "id": "458de1a2",
   "metadata": {},
   "outputs": [],
   "source": [
    "#Checking length:"
   ]
  },
  {
   "cell_type": "code",
   "execution_count": 370,
   "id": "510a67c0",
   "metadata": {},
   "outputs": [
    {
     "name": "stdout",
     "output_type": "stream",
     "text": [
      "15 15 1 15 15 15\n"
     ]
    }
   ],
   "source": [
    "print(len(Name),len(Net_worth),len(Rank),len(Source),len(Country),len(Age))"
   ]
  },
  {
   "cell_type": "markdown",
   "id": "144228ba",
   "metadata": {},
   "source": [
    "# Q4. Scrap smartphone pixel 4A details from flipkart.com"
   ]
  },
  {
   "cell_type": "code",
   "execution_count": 2,
   "id": "4eb47034",
   "metadata": {},
   "outputs": [],
   "source": [
    "\n",
    "#importing libraries\n",
    "import requests\n",
    "from bs4 import BeautifulSoup\n",
    "import pandas as pd\n",
    "import requests\n",
    "import selenium\n",
    "from selenium import webdriver\n",
    "import warnings\n",
    "warnings.filterwarnings('ignore')\n",
    "from selenium.webdriver.common.by import By\n",
    "import time\n",
    "from selenium.common.exceptions import NoSuchElementException"
   ]
  },
  {
   "cell_type": "code",
   "execution_count": 3,
   "id": "5bfc436a",
   "metadata": {},
   "outputs": [],
   "source": [
    "#let's get connect to the webdriver\n",
    "driver=webdriver.Chrome(r\"C:\\Users\\md\\Downloads\\chromedriver_win32(1)\\Chromedriver.exe\")\n",
    "driver.get(\"https://www.flipkart.com\")"
   ]
  },
  {
   "cell_type": "code",
   "execution_count": 4,
   "id": "2fefe177",
   "metadata": {},
   "outputs": [],
   "source": [
    "# Get URL:\n",
    "url =\"https://www.flipkart.com/search?q=smart%20phone%20pixel%204A&otracker=search&otracker1=search&marketplace=FLIPKART&as-show=on&as=off\"\n",
    "driver.get(url)\n",
    "time.sleep(1)"
   ]
  },
  {
   "cell_type": "code",
   "execution_count": 5,
   "id": "ac28b941",
   "metadata": {},
   "outputs": [
    {
     "name": "stdout",
     "output_type": "stream",
     "text": [
      "<selenium.webdriver.remote.webelement.WebElement (session=\"1c18d983d0d5ca36b94a00e765dff389\", element=\"1f7c6722-a97a-4db0-9cbc-4f735aa7a269\")>\n"
     ]
    }
   ],
   "source": [
    "#Find element:\n",
    "try:\n",
    "    element=driver.find_element(By.CLASS_NAME,\"_3704LK\")\n",
    "    print(element)\n",
    "except NoSuchElementException as e:\n",
    "    #print('Exception on Raised as\", e)\n",
    "    element=driver.find_element(By.CLASS_NAME,\"_3OO5Xc\")\n",
    "    print(element)\n",
    "    driver.find_element(By.XPATH,'//[@class=\"L0Z3Pu\"]').send_keys(\"Smartphone pixel 4A\")\n",
    "    time.sleep(3)"
   ]
  },
  {
   "cell_type": "code",
   "execution_count": 6,
   "id": "e0cd8408",
   "metadata": {},
   "outputs": [],
   "source": [
    "#scrap all product urls:\n",
    "product_urls=[]\n",
    "start=0\n",
    "end=3\n",
    "for page in range(start,end):\n",
    "    url=driver.find_elements(By.XPATH,'//a[@class=\"ge-49M\"]')\n",
    "    for i in url[0:10]:\n",
    "        product_urls.append(i.get_attribute(\"href\"))\n",
    "    nxt_button=driver.find_element(By.XPATH,'//a[@class=\"_1LKTO3\"]')\n",
    "    nxt_button.click()\n",
    "    time.sleep(2)"
   ]
  },
  {
   "cell_type": "code",
   "execution_count": 7,
   "id": "87b914e0",
   "metadata": {},
   "outputs": [
    {
     "data": {
      "text/plain": [
       "27"
      ]
     },
     "execution_count": 7,
     "metadata": {},
     "output_type": "execute_result"
    }
   ],
   "source": [
    "# checking length:\n",
    "len(product_urls)"
   ]
  },
  {
   "cell_type": "code",
   "execution_count": 23,
   "id": "dcbc8713",
   "metadata": {},
   "outputs": [],
   "source": [
    "# make a empty list\n",
    "Brand = []\n",
    "Smartphname = []\n",
    "Smartphprice = []\n",
    "Color = []\n",
    "SmartphRAM =[]\n",
    "Delivery = []\n",
    "storageROM = []\n",
    "PrimaryCamera = []\n",
    "SecondaryCamera = []\n",
    "DisplaySize = []\n",
    "BatteryCapacity = []\n",
    "ProductURL =[]"
   ]
  },
  {
   "cell_type": "code",
   "execution_count": null,
   "id": "ad690e81",
   "metadata": {},
   "outputs": [],
   "source": [
    "#Scrap -Brand,smartphname,Smartphprice,Color,SmartphRAM,Delivery,StorageROM,PrimaryCamera,SecondaryCamera,DisplaySize,\n",
    "#BatteryCapacity,ProductURL."
   ]
  },
  {
   "cell_type": "code",
   "execution_count": 154,
   "id": "43ab386b",
   "metadata": {},
   "outputs": [],
   "source": [
    "try:\n",
    "    brand=driver.find_elements(By.XPATH,'//*[@id=\"URwL2w col col-9-12\"]/html/body/div[1]/div/div[3]/div[1]/div[2]/div[9]/div/div/div[5]/div/div[2]/div/div[1]/table/tbody/tr[2]/td[2]/ul/li')\n",
    "    Brand.append(brand)\n",
    "except NoSuchElementException:\n",
    "    Brand.append('-')\n",
    "except NoSuchElementException as e:\n",
    "    brand=driver.find_all_elements(By.XPATH,'//*[@id=\"_21lJbe\"]/html/body/div[1]/div/div[3]/div[1]/div[2]/div[9]/div/div/div[5]/div/div[2]/div/div[1]/table/tbody/tr[2]/td[2]/ul/li')\n",
    "    Brand.append(brand.text)\n",
    "    time.sleep(2)"
   ]
  },
  {
   "cell_type": "code",
   "execution_count": 155,
   "id": "2a9ca364",
   "metadata": {},
   "outputs": [
    {
     "data": {
      "text/plain": [
       "6"
      ]
     },
     "execution_count": 155,
     "metadata": {},
     "output_type": "execute_result"
    }
   ],
   "source": [
    "#checking length\n",
    "len(Brand)"
   ]
  },
  {
   "cell_type": "code",
   "execution_count": 156,
   "id": "dd5e9df2",
   "metadata": {},
   "outputs": [],
   "source": [
    "try:\n",
    "    smartphname=driver.find_elements(By.XPATH,'//*[@id=\"B_NuCI\"]/html/body/div[1]/div/div[3]/div[1]/div[2]/div[3]/div/div[1]/h1/span')\n",
    "    Smartphname.append(smartphname)\n",
    "except NoSuchElementException:\n",
    "    Smartphname.append('-')\n",
    "except NoSuchElementException as e:\n",
    "    smartphname=driver.find_all_elements(By.XPATH,'//*[@id=\"yhB1nd\"]/html/body/div[1]/div/div[3]/div[1]/div[2]/div[3]/div/div[1]/h1/span')\n",
    "    Smartphname.append(smartphname.text)\n",
    "    time.sleep(2)"
   ]
  },
  {
   "cell_type": "code",
   "execution_count": 157,
   "id": "04cc81cf",
   "metadata": {},
   "outputs": [
    {
     "data": {
      "text/plain": [
       "6"
      ]
     },
     "execution_count": 157,
     "metadata": {},
     "output_type": "execute_result"
    }
   ],
   "source": [
    "#checking length\n",
    "len(Smartphname)"
   ]
  },
  {
   "cell_type": "code",
   "execution_count": 147,
   "id": "6deb4f20",
   "metadata": {},
   "outputs": [],
   "source": [
    "try:\n",
    "    smartphprice=driver.find_elements(By.XPATH,'//*[@id=\"col col-5-12 nlI3QM\"]/html/body/div/div/div[3]/div[1]/div[2]/div[2]/div/div/div/a/div[2]/div[2]/div[1]/div[1]/div[1]')\n",
    "    Smartphprice.append(smartphprice)\n",
    "except NoSuchElementException:\n",
    "    Smartphprice.append('-')\n",
    "except NoSuchElementException as e:\n",
    "    smartphprice=driver.find_all_elements(By.XPATH,'//*[@id=\"_30jeq3 _1_WHN1\"]/html/body/div/div/div[3]/div[1]/div[2]/div[2]/div/div/div/a/div[2]/div[2]/div[1]/div[1]/div[1]')\n",
    "    Price.append(smartphprice)\n",
    "    time.sleep(2)"
   ]
  },
  {
   "cell_type": "code",
   "execution_count": 153,
   "id": "134039fd",
   "metadata": {},
   "outputs": [
    {
     "data": {
      "text/plain": [
       "6"
      ]
     },
     "execution_count": 153,
     "metadata": {},
     "output_type": "execute_result"
    }
   ],
   "source": [
    "#checking length\n",
    "len(Smartphprice)"
   ]
  },
  {
   "cell_type": "code",
   "execution_count": 158,
   "id": "fa551354",
   "metadata": {},
   "outputs": [],
   "source": [
    "try:\n",
    "    color=driver.find_elements(By.XPATH,'//*[@id=\"_22QfJJ\"]/html/body/div[1]/div/div[3]/div[1]/div[2]/div[6]/div/div[1]/div[1]/span')\n",
    "    Color.append(color)\n",
    "except NoSuchElementException:\n",
    "    color.append('-')\n",
    "except NoSuchElementException as e:\n",
    "    color=driver.find_all_elements(By.XPATH,'//*[@id=\"_1rcQuH\"]/html/body/div[1]/div/div[3]/div[1]/div[2]/div[6]/div/div[1]/div[1]/span')\n",
    "    Color.append(color)\n",
    "    time.sleep(2)    "
   ]
  },
  {
   "cell_type": "code",
   "execution_count": 159,
   "id": "025d597c",
   "metadata": {},
   "outputs": [
    {
     "data": {
      "text/plain": [
       "6"
      ]
     },
     "execution_count": 159,
     "metadata": {},
     "output_type": "execute_result"
    }
   ],
   "source": [
    "#checking length\n",
    "len(Color)"
   ]
  },
  {
   "cell_type": "code",
   "execution_count": 160,
   "id": "b02f047c",
   "metadata": {},
   "outputs": [],
   "source": [
    "try:\n",
    "    smartphRAM=driver.find_elements(By.XPATH,'//*[@id=\"_22QfJJ\"]/html/body/div[1]/div/div[3]/div[1]/div[2]/div[6]/div/div[2]/div[1]/span')\n",
    "    SmartphRAM.append(smartphRAM)\n",
    "except NoSuchElementException:\n",
    "    smartphRAM.append('-')\n",
    "except NoSuchElementException as e:\n",
    "    smartphRAM=driver.find_all_elements(By.XPATH,'//*[@id=\"_1rcQuH\"]/html/body/div[1]/div/div[3]/div[1]/div[2]/div[6]/div/div[2]/div[1]/span')\n",
    "    SmartphRAM.append(smartphRAM)\n",
    "    time.sleep(2)   "
   ]
  },
  {
   "cell_type": "code",
   "execution_count": 161,
   "id": "8d077c19",
   "metadata": {},
   "outputs": [
    {
     "data": {
      "text/plain": [
       "6"
      ]
     },
     "execution_count": 161,
     "metadata": {},
     "output_type": "execute_result"
    }
   ],
   "source": [
    "#checking length\n",
    "len(SmartphRAM)"
   ]
  },
  {
   "cell_type": "code",
   "execution_count": 162,
   "id": "1c83c188",
   "metadata": {},
   "outputs": [],
   "source": [
    "try:\n",
    "    delivery=driver.find_elements(By.XPATH,'//*[@id=\"_1Udugu row\"]/html/body/div[1]/div/div[3]/div[1]/div[2]/div[7]/div/div/div[1]/div[1]')\n",
    "    Delivery.append(delivery)\n",
    "except NoSuchElementException:\n",
    "    delivery.append('-')\n",
    "except NoSuchElementException as e:\n",
    "    delivery=driver.find_all_elements(By.XPATH,'//*[@id=\"_2taUHM\"]/html/body/div[1]/div/div[3]/div[1]/div[2]/div[7]/div/div/div[1]/div[1]')\n",
    "    Delivery.append(delivery)\n",
    "    time.sleep(2)    "
   ]
  },
  {
   "cell_type": "code",
   "execution_count": 163,
   "id": "64db4943",
   "metadata": {},
   "outputs": [
    {
     "data": {
      "text/plain": [
       "6"
      ]
     },
     "execution_count": 163,
     "metadata": {},
     "output_type": "execute_result"
    }
   ],
   "source": [
    "#checking length\n",
    "len(Delivery)"
   ]
  },
  {
   "cell_type": "code",
   "execution_count": 164,
   "id": "0c683799",
   "metadata": {},
   "outputs": [],
   "source": [
    "try:\n",
    "    storageROM=driver.find_elements(By.XPATH,'//*[@id=\"_21lJbe\"]/html/body/div[1]/div/div[3]/div[1]/div[2]/div[9]/div[5]/div/div[2]/div[1]/div[4]/table/tbody/tr[2]/td[1]')\n",
    "    StorageROM.append(storageROM)\n",
    "except NoSuchElementException :\n",
    "    storageROM.append('-')\n",
    "except NoSuchElementException as e:    \n",
    "    storageROM=driver.find_element(By.XPATH,'//*[@id=\"_1hKmbr col col-3-12\"]/html/body/div[1]/div/div[3]/div[1]/div[2]/div[9]/div[5]/div/div[2]/div[1]/div[4]/table/tbody/tr[2]/td[1]')\n",
    "    StorageROM.append(storageROM.text)\n",
    "    time.sleep(2)"
   ]
  },
  {
   "cell_type": "code",
   "execution_count": 165,
   "id": "c7a9f5e5",
   "metadata": {},
   "outputs": [
    {
     "data": {
      "text/plain": [
       "6"
      ]
     },
     "execution_count": 165,
     "metadata": {},
     "output_type": "execute_result"
    }
   ],
   "source": [
    "#checking length\n",
    "len(StorageROM)"
   ]
  },
  {
   "cell_type": "code",
   "execution_count": 166,
   "id": "1b076c40",
   "metadata": {},
   "outputs": [],
   "source": [
    "try:\n",
    "    primarycamera=driver.find_elements(By.XPATH,'//*[@id=\"_21lJbe\"]/html/body/div[1]/div/div[3]/div[1]/div[2]/div[9]/div[5]/div/div[2]/div[1]/div[5]/table/tbody/tr[2]/td[1]')\n",
    "    PrimaryCamera.append(primarycamera)\n",
    "except NoSuchElementException :\n",
    "    primarycamera.append('-')\n",
    "except NoSuchElementException as e:    \n",
    "    primarycamera=driver.find_element(By.XPATH,'//*[@id=\"_1hKmbr col col-3-12\"]/html/body/div[1]/div/div[3]/div[1]/div[2]/div[9]/div[5]/div/div[2]/div[1]/div[5]/table/tbody/tr[2]/td[1]')\n",
    "    PrimaryCamera.append(primarycamera.text)\n",
    "    time.sleep(2)"
   ]
  },
  {
   "cell_type": "code",
   "execution_count": 167,
   "id": "3a5d5259",
   "metadata": {},
   "outputs": [
    {
     "data": {
      "text/plain": [
       "6"
      ]
     },
     "execution_count": 167,
     "metadata": {},
     "output_type": "execute_result"
    }
   ],
   "source": [
    "#checking length\n",
    "len(PrimaryCamera)"
   ]
  },
  {
   "cell_type": "code",
   "execution_count": 168,
   "id": "a91e7964",
   "metadata": {},
   "outputs": [],
   "source": [
    "try:\n",
    "    secondarycamera=driver.find_elements(By.XPATH,'//*[@id=\"_21lJbe\"]/html/body/div[1]/div/div[3]/div[1]/div[2]/div[9]/div[5]/div/div[2]/div[1]/div[5]/table/tbody/tr[5]/td[1]')\n",
    "    SecondaryCamera.append(secondarycamera)\n",
    "except NoSuchElementException :\n",
    "    secondarycamera.append('-')\n",
    "except NoSuchElementException as e:    \n",
    "    secondarycamera=driver.find_element(By.XPATH,'//*[@id=\"_1hKmbr col col-3-12\"]/html/body/div[1]/div/div[3]/div[1]/div[2]/div[9]/div[5]/div/div[2]/div[1]/div[5]/table/tbody/tr[5]/td[1]')\n",
    "    SecondaryCamera.append(secondaryrycamera.text)\n",
    "    time.sleep(2)    "
   ]
  },
  {
   "cell_type": "code",
   "execution_count": 169,
   "id": "07c3c24d",
   "metadata": {},
   "outputs": [
    {
     "data": {
      "text/plain": [
       "6"
      ]
     },
     "execution_count": 169,
     "metadata": {},
     "output_type": "execute_result"
    }
   ],
   "source": [
    "#checking length\n",
    "len(SecondaryCamera)"
   ]
  },
  {
   "cell_type": "code",
   "execution_count": 170,
   "id": "f9e79014",
   "metadata": {},
   "outputs": [],
   "source": [
    "try:\n",
    "    displaysize=driver.find_elements(By.XPATH,'//*[@id=\"_21lJbe\"]/html/body/div[1]/div/div[3]/div[1]/div[2]/div[9]/div[5]/div/div[2]/div[1]/div[2]/table/tbody/tr[1]/td[1]')\n",
    "    DisplaySize.append(displaysize)\n",
    "except NoSuchElementException:\n",
    "    displaysize.append('-')\n",
    "except NoSuchElementException as e:\n",
    "    displaysize=driver.find_all_elements(By.XPATH,'//*[@id=\"_1hKmbr col col-3-12\"]/html/body/div[1]/div/div[3]/div[1]/div[2]/div[9]/div[5]/div/div[2]/div[1]/div[2]/table/tbody/tr[1]/td[1]')\n",
    "    Displaysize.append(displaysize)\n",
    "    time.sleep(2)"
   ]
  },
  {
   "cell_type": "code",
   "execution_count": 171,
   "id": "5138cded",
   "metadata": {},
   "outputs": [
    {
     "data": {
      "text/plain": [
       "6"
      ]
     },
     "execution_count": 171,
     "metadata": {},
     "output_type": "execute_result"
    }
   ],
   "source": [
    "#checking length\n",
    "len(DisplaySize)"
   ]
  },
  {
   "cell_type": "code",
   "execution_count": 172,
   "id": "7c7139e6",
   "metadata": {},
   "outputs": [],
   "source": [
    "try:\n",
    "    batterycapacity=driver.find_elements(By.XPATH,'//*[@id=\"_1hKmbr col col-3-12\"]/html/body/div[1]/div/div[3]/div[1]/div[2]/div[9]/div[5]/div/div[2]/div[1]/div[10]/table/tbody/tr/td[1]')\n",
    "    BatteryCapacity.append(batterycapacity)\n",
    "except NoSuchElementException:\n",
    "    batterycapacity.append('-')\n",
    "except NoSuchElementException as e:\n",
    "    batterycapacity=driver.find_all_elements(By.XPATH,'//*[@id=\"_21lJbe\"]/html/body/div[1]/div/div[3]/div[1]/div[2]/div[9]/div[5]/div/div[2]/div[1]/div[10]/table/tbody/tr/td[1]')\n",
    "    BatteryCapacity.append(batterycapacity)\n",
    "    time.sleep(2)    "
   ]
  },
  {
   "cell_type": "code",
   "execution_count": 173,
   "id": "57be5f9e",
   "metadata": {},
   "outputs": [
    {
     "data": {
      "text/plain": [
       "6"
      ]
     },
     "execution_count": 173,
     "metadata": {},
     "output_type": "execute_result"
    }
   ],
   "source": [
    "#checking length\n",
    "len(BatteryCapacity)"
   ]
  },
  {
   "cell_type": "code",
   "execution_count": 174,
   "id": "4c7ef310",
   "metadata": {},
   "outputs": [],
   "source": [
    "try:\n",
    "    productURL=driver.find_element(By.XPATH,'//*[@id=\"_3kidJX\"]/html/body/div[1]/div/div[3]/div[1]/div[1]/div[1]/div/div[1]/div[2]/div[1]/div[2]')\n",
    "    ProductURL.append(productURL.text)\n",
    "except NoSuchElementException:\n",
    "    ProductURL.append('-')\n",
    "except NoSuchElementException as e:\n",
    "    productURL=driver.find_all_element(By.XPATH,'//*[@id=\"CXW8mj _3nMexc\"]/html/body/div[1]/div/div[3]/div[1]/div[1]/div[1]/div/div[1]/div[2]/div[1]/div[2]')\n",
    "    ProductURL.append(productURL.text)\n",
    "    time.sleep(2)"
   ]
  },
  {
   "cell_type": "code",
   "execution_count": 175,
   "id": "4f4a9e2e",
   "metadata": {},
   "outputs": [
    {
     "data": {
      "text/plain": [
       "6"
      ]
     },
     "execution_count": 175,
     "metadata": {},
     "output_type": "execute_result"
    }
   ],
   "source": [
    "#checking length\n",
    "len(ProductURL)"
   ]
  },
  {
   "cell_type": "code",
   "execution_count": 176,
   "id": "f1539739",
   "metadata": {},
   "outputs": [
    {
     "name": "stdout",
     "output_type": "stream",
     "text": [
      "6 6 6 6 6 6 6 6 6 6 6 6\n"
     ]
    }
   ],
   "source": [
    "#Checking length:\n",
    "\n",
    "print(len(Brand),len(Smartphname),len(Smartphprice),len(Color),len(Delivery),len(SmartphRAM),len(StorageROM),len(PrimaryCamera),len(SecondaryCamera),len(DisplaySize),len(BatteryCapacity),len(ProductURL))"
   ]
  },
  {
   "cell_type": "markdown",
   "id": "392f8ac4",
   "metadata": {},
   "source": [
    "# Q9. Scrap  comments and time when comment was posted from any youtube vedio:\n",
    "    "
   ]
  },
  {
   "cell_type": "code",
   "execution_count": 56,
   "id": "a528c016",
   "metadata": {},
   "outputs": [],
   "source": [
    "#let's get connect to the webdriver\n",
    "driver=webdriver.Chrome(r\"C:\\Users\\md\\Downloads\\chromedriver_win32(1)\\Chromedriver.exe\")\n",
    "driver.get(\"YouTubehttps://www.youtube.com\")"
   ]
  },
  {
   "cell_type": "code",
   "execution_count": 57,
   "id": "626a9aea",
   "metadata": {},
   "outputs": [],
   "source": [
    "# get url :\n",
    "url = \"https://www.youtube.com/watch?v=Yiaatr-Noh0\"\n",
    "driver.get(url)\n",
    "time.sleep(1)"
   ]
  },
  {
   "cell_type": "code",
   "execution_count": 58,
   "id": "ead0872c",
   "metadata": {},
   "outputs": [
    {
     "name": "stdout",
     "output_type": "stream",
     "text": [
      "<selenium.webdriver.remote.webelement.WebElement (session=\"2c74d0e72535a996ca019431e21d2e15\", element=\"44171c2b-1e6e-430e-a06f-5dfd8b9bcdb2\")>\n"
     ]
    }
   ],
   "source": [
    "# find element and search element:\n",
    "try:\n",
    "    element=driver.find_element(By.CLASS_NAME,\"ytd-searchbox\")\n",
    "    print(element)\n",
    "except NoSuchElementException as e:\n",
    "    #print('Exception on Raised as\", e)\n",
    "    element=driver.find_element(By.CLASS_NAME,\"style-scope ytd-searchbox\")\n",
    "    print(element)\n",
    "    driver.find_element(By.XPATH,'//[@class=\"style-scope ytd-searchbox\"]').send_keys(\"sadguru vedio\")\n",
    "    time.sleep(3)"
   ]
  },
  {
   "cell_type": "code",
   "execution_count": 67,
   "id": "a4f44690",
   "metadata": {},
   "outputs": [],
   "source": [
    "#scrap all product urls:\n",
    "product_urls=[]\n",
    "for page in range(3):\n",
    "    url=driver.find_elements(By.XPATH,'//a[@class=\"yt-simple-endpoint style-scope ytd-watch-metadata\"]')\n",
    "    for i in url[0:3]:\n",
    "        product_urls.append(i.get_attribute(\"href\"))\n",
    "        time.sleep(2)"
   ]
  },
  {
   "cell_type": "code",
   "execution_count": 68,
   "id": "61bb4d64",
   "metadata": {},
   "outputs": [
    {
     "data": {
      "text/plain": [
       "3"
      ]
     },
     "execution_count": 68,
     "metadata": {},
     "output_type": "execute_result"
    }
   ],
   "source": [
    "#Checking length of productURL:\n",
    "len(product_urls)"
   ]
  },
  {
   "cell_type": "code",
   "execution_count": 69,
   "id": "5debfaa8",
   "metadata": {},
   "outputs": [],
   "source": [
    "#Make a empty list:\n",
    "Comments = []\n",
    "PostedDate = []"
   ]
  },
  {
   "cell_type": "code",
   "execution_count": 70,
   "id": "5f78d2a4",
   "metadata": {},
   "outputs": [],
   "source": [
    "#Scraping comments:\n",
    "Comments=[]\n",
    "for url in product_urls[:3]:\n",
    "    driver.get(url)\n",
    "    time.sleep(2)\n",
    "    \n",
    "    try:\n",
    "        comments=driver.find_elements(By.XPATH,'//*[@id=\"style-scope ytd-comment-renderer\"]/html/body/ytd-app/div[1]/ytd-page-manager/ytd-watch-flexy/div[5]/div[1]/div/div[2]/ytd-comments/ytd-item-section-renderer/div[3]/ytd-comment-thread-renderer[1]/ytd-comment-renderer/div[3]/div[2]/div[2]/ytd-expander/div/yt-formatted-string')\n",
    "        Comments.append(comments)\n",
    "    except NoSuchElementException:\n",
    "        Comments.append('-')\n",
    "    except NoSuchElementException as e:\n",
    "        comments=driver.find_element(By.XPATH,'//*[@id=\"style-scope yt-formatted-string\"]/html/body/ytd-app/div[1]/ytd-page-manager/ytd-watch-flexy/div[5]/div[1]/div/div[2]/ytd-comments/ytd-item-section-renderer/div[3]/ytd-comment-thread-renderer[1]/ytd-comment-renderer/div[3]/div[2]/div[2]/ytd-expander/div/yt-formatted-string')\n",
    "        Comments.append(comments.text)\n",
    "        time.sleep(1)\n"
   ]
  },
  {
   "cell_type": "code",
   "execution_count": 71,
   "id": "cda1c483",
   "metadata": {},
   "outputs": [
    {
     "data": {
      "text/plain": [
       "3"
      ]
     },
     "execution_count": 71,
     "metadata": {},
     "output_type": "execute_result"
    }
   ],
   "source": [
    "#checking length:\n",
    "len(Comments)"
   ]
  },
  {
   "cell_type": "code",
   "execution_count": 74,
   "id": "340939e0",
   "metadata": {},
   "outputs": [],
   "source": [
    "# Scrap PostedDate\n",
    "PostedDate=[]\n",
    "for url in product_urls[:3]:\n",
    "    driver.get(url)\n",
    "    time.sleep(2)\n",
    "    \n",
    "    try:\n",
    "        posteddate=driver.find_elements(By.XPATH,'//*[@id=\"style-scope yt-formatted-string bold\"]/html/body/ytd-app/div[1]/ytd-page-manager/ytd-watch-flexy/div[5]/div[1]/div/div[2]/ytd-watch-metadata/div/div[3]/div[1]/div/div/yt-formatted-string/span[3]')\n",
    "        PostedDate.append(posteddate)\n",
    "    except NoSuchElementException:\n",
    "        PostedDate.append('-')\n",
    "    except NoSuchElementException as e:\n",
    "        posteddate=driver.find_element(By.XPATH,'//*[@id=\"style-scope ytd-watch-metadata\"]/html/body/ytd-app/div[1]/ytd-page-manager/ytd-watch-flexy/div[5]/div[1]/div/div[2]/ytd-watch-metadata/div/div[3]/div[1]/div/div/yt-formatted-string/span[3]')\n",
    "        PostedDate.append(posteddate.text)\n",
    "        time.sleep(1)\n"
   ]
  },
  {
   "cell_type": "code",
   "execution_count": 75,
   "id": "7881ce63",
   "metadata": {},
   "outputs": [
    {
     "data": {
      "text/plain": [
       "3"
      ]
     },
     "execution_count": 75,
     "metadata": {},
     "output_type": "execute_result"
    }
   ],
   "source": [
    "#Checking length:\n",
    "len(PostedDate)"
   ]
  },
  {
   "cell_type": "code",
   "execution_count": 73,
   "id": "98575272",
   "metadata": {},
   "outputs": [
    {
     "name": "stdout",
     "output_type": "stream",
     "text": [
      "[[], [], []]\n"
     ]
    }
   ],
   "source": [
    "# checking details:\n",
    "print(Comments)"
   ]
  },
  {
   "cell_type": "code",
   "execution_count": 76,
   "id": "0ec479c7",
   "metadata": {},
   "outputs": [
    {
     "name": "stdout",
     "output_type": "stream",
     "text": [
      "[[], [], []]\n"
     ]
    }
   ],
   "source": [
    "#Checking details:\n",
    "print(PostedDate)"
   ]
  },
  {
   "cell_type": "code",
   "execution_count": 283,
   "id": "de98b2e3",
   "metadata": {},
   "outputs": [
    {
     "name": "stdout",
     "output_type": "stream",
     "text": [
      "3 3\n"
     ]
    }
   ],
   "source": [
    "#Checking length:\n",
    "print(len(Comments),len(PostedDate))"
   ]
  },
  {
   "cell_type": "markdown",
   "id": "2d0a7b98",
   "metadata": {},
   "source": [
    "# Q10. Scrap hostels detailsfromwww.hostelworld.com"
   ]
  },
  {
   "cell_type": "code",
   "execution_count": 5,
   "id": "2cf035e2",
   "metadata": {},
   "outputs": [],
   "source": [
    "# import the libraries\n",
    "import pandas as pd\n",
    "import requests\n",
    "import selenium\n",
    "from selenium import webdriver\n",
    "import warnings\n",
    "warnings.filterwarnings('ignore')\n",
    "from selenium.webdriver.common.by import By\n",
    "import time\n",
    "from selenium.common.exceptions import NoSuchElementException"
   ]
  },
  {
   "cell_type": "code",
   "execution_count": 6,
   "id": "244a26f2",
   "metadata": {},
   "outputs": [],
   "source": [
    "#let's get connect to the webdriver\n",
    "driver=webdriver.Chrome(r\"C:\\Users\\md\\Downloads\\chromedriver_win32(1)\\Chromedriver.exe\")\n",
    "driver.get(\"https://www.hostelworld.com/\")"
   ]
  },
  {
   "cell_type": "code",
   "execution_count": 7,
   "id": "52d49a98",
   "metadata": {},
   "outputs": [],
   "source": [
    "# get url :\n",
    "url = \"https://www.hostelworld.com/s?q=London,England&country=London,England&city=London,England&type=city&id=3&from=2022-12-24&to=2022-12-27&guests=2&page=1\"\n",
    "driver.get(url)\n",
    "time.sleep(1)"
   ]
  },
  {
   "cell_type": "code",
   "execution_count": 8,
   "id": "6d682d3a",
   "metadata": {},
   "outputs": [],
   "source": [
    "#Find location element:\n",
    "location=driver.find_element(By.XPATH,\"/html/body/div[3]/div/div/div[2]/div[2]/div/div/div/div[1]/div/input\") \n",
    "location.send_keys(\"london\") "
   ]
  },
  {
   "cell_type": "code",
   "execution_count": 9,
   "id": "0a2258c9",
   "metadata": {},
   "outputs": [],
   "source": [
    "# find search element:\n",
    "search=driver.find_element(By.CLASS_NAME,\"search-button\")\n",
    "search.click()"
   ]
  },
  {
   "cell_type": "code",
   "execution_count": 11,
   "id": "be5e25ab",
   "metadata": {},
   "outputs": [],
   "source": [
    "# make a empty dataframe\n",
    "hotel_name=[]\n",
    "distancefcentre = []\n",
    "hotel_ratings = []\n",
    "total_reviews=[]\n",
    "overall_reviews=[]\n",
    "privates_fprice=[]\n",
    "hotel_facilities=[]\n",
    "propertydes=[]"
   ]
  },
  {
   "cell_type": "code",
   "execution_count": 42,
   "id": "a581486f",
   "metadata": {},
   "outputs": [],
   "source": [
    "#Scrapping hotel_name from the given page\n",
    "name_tags=driver.find_elements(By.XPATH,\"//div[@class='title-row']\")\n",
    "for i in name_tags[1:4]:\n",
    "    name=i.text\n",
    "    hotel_name.append(name)\n",
    "    \n",
    "#Scrapping distancefromcentre from the given page\n",
    "distance_tags=driver.find_elements(By.XPATH,\"//span[@class='description']\")\n",
    "for i in distance_tags[1:4]:\n",
    "    distance=i.text\n",
    "    distancefcentre.append(distance)\n",
    "#Scrapping ratings from the given page\n",
    "ratings_tags=driver.find_elements(By.XPATH,\"//div[@class='score orange big']\")\n",
    "for i in ratings_tags[1:4]:\n",
    "    ratings=i.text\n",
    "    hotel_ratings.append(ratings)\n",
    "#Scrapping reviews from the given page\n",
    "reviews_tags=driver.find_elements(By.XPATH,\"//div[@class='reviews']\")\n",
    "for i in reviews_tags[1:4]:\n",
    "    reviews=i.text\n",
    "    total_reviews.append(reviews)\n",
    "#Scraping overall_reviews\n",
    "reviews_tags=driver.find_elements(By.XPATH,\"//div[@class='keyword']\")\n",
    "for i in reviews_tags[1:4]:\n",
    "    reviews=i.text\n",
    "    overall_reviews.append(reviews)\n",
    "# Scrapig hotel price:\n",
    "price_tags=driver.find_elements(By.XPATH,\"//a[@class='item']\")\n",
    "for i in price_tags[1:4]:\n",
    "    privates_fprice=i.text\n",
    "    privates_fprice.append(price)\n",
    "# checking details:\n",
    "    print(hotel_name)\n",
    "    print(distancefcentre)\n",
    "    print(hotel_ratings)\n",
    "    print(total_reviews)\n",
    "    print(overall_reviews)\n",
    "    print(privates_fprice)\n"
   ]
  },
  {
   "cell_type": "code",
   "execution_count": 53,
   "id": "ee5c4d10",
   "metadata": {},
   "outputs": [
    {
     "name": "stdout",
     "output_type": "stream",
     "text": [
      "[\"St Christopher's Village\\nHostel - 1.8km from city centre\", \"Wombat's City Hostel London\\nHostel - 3.6km from city centre Show on Map\\nFree WiFi\\nFollows Covid-19 sanitation guidance\", \"St Christopher's Village\\nHostel - 1.8km from city centre Show on Map\\nFree WiFi\\nFollows Covid-19 sanitation guidance\"]\n"
     ]
    }
   ],
   "source": [
    "#hotel_names:\n",
    "print(hotel_name)"
   ]
  },
  {
   "cell_type": "code",
   "execution_count": 52,
   "id": "6866351b",
   "metadata": {},
   "outputs": [
    {
     "name": "stdout",
     "output_type": "stream",
     "text": [
      "['Hostel - 1.8km from city centre', 'Hostel - 5.5km from city centre', 'Hostel - 5.4km from city centre', 'Hostel - 1.8km from city centre', 'Hostel - 5.5km from city centre', 'Hostel - 5.4km from city centre']\n"
     ]
    }
   ],
   "source": [
    "#hotel_distace from centre\n",
    "print(distancefcentre)"
   ]
  },
  {
   "cell_type": "code",
   "execution_count": 51,
   "id": "7a7688f9",
   "metadata": {},
   "outputs": [
    {
     "name": "stdout",
     "output_type": "stream",
     "text": [
      "['8.0', '9.3', '9.2', '8.0', '9.3', '9.2', '8.9', '8.9', '8.0', '9.3', '9.2', '8.0', '9.3', '9.2', '8.9', '8.9', '8.9', '8.9']\n"
     ]
    }
   ],
   "source": [
    "#hotel_ratings:\n",
    "print(hotel_ratings)"
   ]
  },
  {
   "cell_type": "code",
   "execution_count": 50,
   "id": "97148df6",
   "metadata": {},
   "outputs": [
    {
     "name": "stdout",
     "output_type": "stream",
     "text": [
      "['11770 Total Reviews', '1643 Total Reviews', '577 Total Reviews', '11770 Total Reviews', '1643 Total Reviews', '577 Total Reviews', '14420 Total Reviews', '14420 Total Reviews', '11770 Total Reviews', '1643 Total Reviews', '577 Total Reviews', '11770 Total Reviews', '1643 Total Reviews', '577 Total Reviews', '14420 Total Reviews', '14420 Total Reviews', '14420 Total Reviews', '14420 Total Reviews']\n"
     ]
    }
   ],
   "source": [
    "#hotel_total_reviews:\n",
    "print(total_reviews)"
   ]
  },
  {
   "cell_type": "code",
   "execution_count": 48,
   "id": "03a4d033",
   "metadata": {},
   "outputs": [
    {
     "name": "stdout",
     "output_type": "stream",
     "text": [
      "['Fabulous', 'Fabulous', 'Fabulous', 'Fabulous', 'Fabulous', 'Fabulous', 'Fabulous', 'Fabulous', 'Fabulous', 'Fabulous', 'Fabulous', 'Fabulous']\n"
     ]
    }
   ],
   "source": [
    "#hotel_overall_reviews:\n",
    "print(overall_reviews)"
   ]
  },
  {
   "cell_type": "code",
   "execution_count": 46,
   "id": "0b3444ac",
   "metadata": {},
   "outputs": [
    {
     "name": "stdout",
     "output_type": "stream",
     "text": [
      "Facilities\n"
     ]
    }
   ],
   "source": [
    "#hotel_privates from price:\n",
    "print(privates_fprice)"
   ]
  },
  {
   "cell_type": "code",
   "execution_count": 54,
   "id": "a79a6655",
   "metadata": {},
   "outputs": [
    {
     "name": "stdout",
     "output_type": "stream",
     "text": [
      "3 6 18 18 12 10\n"
     ]
    }
   ],
   "source": [
    "# Checking length:\n",
    "print(len(hotel_name),len(distancefcentre),len(hotel_ratings),len(total_reviews),len(overall_reviews),len(privates_fprice))"
   ]
  }
 ],
 "metadata": {
  "kernelspec": {
   "display_name": "Python 3 (ipykernel)",
   "language": "python",
   "name": "python3"
  },
  "language_info": {
   "codemirror_mode": {
    "name": "ipython",
    "version": 3
   },
   "file_extension": ".py",
   "mimetype": "text/x-python",
   "name": "python",
   "nbconvert_exporter": "python",
   "pygments_lexer": "ipython3",
   "version": "3.9.13"
  }
 },
 "nbformat": 4,
 "nbformat_minor": 5
}
